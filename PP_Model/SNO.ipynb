{
 "cells": [
  {
   "cell_type": "code",
   "execution_count": 4,
   "metadata": {
    "collapsed": true
   },
   "outputs": [],
   "source": [
    "import os\n",
    "os.chdir('C:/Users/administrator/Desktop/SNO/Model_V2/')"
   ]
  },
  {
   "cell_type": "code",
   "execution_count": 2,
   "metadata": {
    "collapsed": true
   },
   "outputs": [],
   "source": [
    "import csv\n",
    "import json\n",
    "import re"
   ]
  },
  {
   "cell_type": "code",
   "execution_count": 3,
   "metadata": {},
   "outputs": [
    {
     "name": "stdout",
     "output_type": "stream",
     "text": [
      "dict_items([('i[1,1]', {'Value': 1}), ('i[1,2]', {'Value': 86}), ('i[1,3]', {'Value': 195}), ('i[1,4]', {'Value': 328}), ('i[1,5]', {'Value': 414}), ('i[3,1]', {'Value': 111}), ('i[3,2]', {'Value': 217}), ('i[3,3]', {'Value': 286}), ('i[3,4]', {'Value': 402}), ('i[3,5]', {'Value': 506}), ('i[4,2]', {'Value': 30}), ('i[4,3]', {'Value': 51}), ('i[4,4]', {'Value': 92}), ('i[4,5]', {'Value': 104}), ('i[5,1]', {'Value': 1}), ('i[5,2]', {'Value': 1}), ('i[5,3]', {'Value': 1}), ('i[6,1]', {'Value': 162}), ('i[6,2]', {'Value': 365}), ('i[6,3]', {'Value': 536}), ('i[6,4]', {'Value': 755}), ('i[6,5]', {'Value': 954}), ('i[7,2]', {'Value': 1}), ('i[7,4]', {'Value': 1}), ('x[1,1]', {'Value': 11}), ('x[1,2]', {'Value': 4}), ('x[1,3]', {'Value': 31}), ('x[1,5]', {'Value': 20}), ('x[2,1]', {'Value': 24}), ('x[2,2]', {'Value': 32}), ('x[2,4]', {'Value': 37}), ('x[2,5]', {'Value': 22}), ('x[3,1]', {'Value': 89}), ('x[3,2]', {'Value': 95}), ('x[3,3]', {'Value': 54}), ('x[3,4]', {'Value': 100}), ('x[3,5]', {'Value': 81}), ('x[4,3]', {'Value': 36}), ('x[4,4]', {'Value': 2})])\n"
     ]
    }
   ],
   "source": [
    "from pprint import pprint\n",
    "with open('results.json') as data_file:\n",
    "    data = json.load(data_file)\n",
    "    #print(data)\n",
    "    solution = data['Solution'][1]['Variable']\n",
    "    print(solution.items())\n",
    "#     i_sol = [list(map(int,re.findall(r'\\d+',k))) for k,v in solution.items() if 'i' in k]\n",
    "    i_sol = {k[1:]: v['Value'] for k,v in solution.items() if 'i' in k}\n",
    "    x_sol = {k[1:]: v['Value'] for k,v in solution.items() if 'x' in k}"
   ]
  },
  {
   "cell_type": "code",
   "execution_count": 4,
   "metadata": {},
   "outputs": [
    {
     "data": {
      "text/plain": [
       "{'[1,1]': 11,\n",
       " '[1,2]': 4,\n",
       " '[1,3]': 31,\n",
       " '[1,5]': 20,\n",
       " '[2,1]': 24,\n",
       " '[2,2]': 32,\n",
       " '[2,4]': 37,\n",
       " '[2,5]': 22,\n",
       " '[3,1]': 89,\n",
       " '[3,2]': 95,\n",
       " '[3,3]': 54,\n",
       " '[3,4]': 100,\n",
       " '[3,5]': 81,\n",
       " '[4,3]': 36,\n",
       " '[4,4]': 2}"
      ]
     },
     "execution_count": 4,
     "metadata": {},
     "output_type": "execute_result"
    }
   ],
   "source": [
    "x_sol"
   ]
  },
  {
   "cell_type": "code",
   "execution_count": 11,
   "metadata": {},
   "outputs": [
    {
     "name": "stdout",
     "output_type": "stream",
     "text": [
      "    1   2    3   4\n",
      "1  11  24   89   0\n",
      "2   4  32   95   0\n",
      "3  31   0   54  36\n",
      "4   0  37  100   2\n",
      "5  20  22   81   0\n",
      "total birds 638\n"
     ]
    }
   ],
   "source": [
    "import pandas as pd\n",
    "d = pd.DataFrame(0, index=range(1,6), columns=range(1,5))\n",
    "s =0\n",
    "for x,v in x_sol.items():\n",
    "    words = re.findall(r'[\\d]+,[\\d\\.-]+', x)\n",
    "    #joins all of the elements of the word array into a string separated by a space\n",
    "    outputString = \" \".join((words))\n",
    "    #print(words,v)\n",
    "    d[int(words[0][0])][int(words[0][2])]=v\n",
    "    s +=v\n",
    "    #output is \"Hello World How\"\n",
    "print(d)\n",
    "print('total birds',s)"
   ]
  },
  {
   "cell_type": "code",
   "execution_count": 6,
   "metadata": {},
   "outputs": [
    {
     "name": "stdout",
     "output_type": "stream",
     "text": [
      "     r  k    l    t  d    w  b\n",
      "1    1  0  111    0  1  162  0\n",
      "2   86  0  217   30  1  365  1\n",
      "3  195  0  286   51  1  536  0\n",
      "4  328  0  402   92  0  755  1\n",
      "5  414  0  506  104  0  954  0\n",
      "6    0  0    0    0  0    0  0\n",
      "7    0  0    0    0  0    0  0\n",
      "total invenotry 5600\n"
     ]
    }
   ],
   "source": [
    "import pandas as pd\n",
    "d = pd.DataFrame(0, index=range(1,8), columns=range(1,8))\n",
    "s = 0\n",
    "for x,v in i_sol.items():\n",
    "#     print(x)\n",
    "\n",
    "    #creates list of strings that match the regular expression\n",
    "    words = re.findall(r'[\\d]+,[\\d\\.-]+', x)\n",
    "    #joins all of the elements of the word array into a string separated by a space\n",
    "    outputString = \" \".join((words))\n",
    "    #print(words)\n",
    "    d[int(words[0][0])][int(words[0][2])]=v\n",
    "    #output is \"Hello World How\"\n",
    "    s +=v\n",
    "d.columns=['r','k','l','t','d','w','b']\n",
    "print(d)\n",
    "print('total invenotry',s)"
   ]
  },
  {
   "cell_type": "code",
   "execution_count": 7,
   "metadata": {
    "collapsed": true
   },
   "outputs": [],
   "source": [
    "def output(df):\n",
    "    df.to_excel('OutPut.xls','Reg_output')\n",
    "output(d)"
   ]
  },
  {
   "cell_type": "code",
   "execution_count": 3,
   "metadata": {},
   "outputs": [
    {
     "data": {
      "text/html": [
       "<div>\n",
       "<style>\n",
       "    .dataframe thead tr:only-child th {\n",
       "        text-align: right;\n",
       "    }\n",
       "\n",
       "    .dataframe thead th {\n",
       "        text-align: left;\n",
       "    }\n",
       "\n",
       "    .dataframe tbody tr th {\n",
       "        vertical-align: top;\n",
       "    }\n",
       "</style>\n",
       "<table border=\"1\" class=\"dataframe\">\n",
       "  <thead>\n",
       "    <tr style=\"text-align: right;\">\n",
       "      <th></th>\n",
       "      <th>1</th>\n",
       "      <th>2</th>\n",
       "      <th>3</th>\n",
       "      <th>4</th>\n",
       "      <th>5</th>\n",
       "      <th>6</th>\n",
       "    </tr>\n",
       "  </thead>\n",
       "  <tbody>\n",
       "    <tr>\n",
       "      <th>1</th>\n",
       "      <td>177</td>\n",
       "      <td>105</td>\n",
       "      <td>71</td>\n",
       "      <td>71</td>\n",
       "      <td>76</td>\n",
       "      <td>122</td>\n",
       "    </tr>\n",
       "    <tr>\n",
       "      <th>2</th>\n",
       "      <td>89</td>\n",
       "      <td>95</td>\n",
       "      <td>90</td>\n",
       "      <td>102</td>\n",
       "      <td>81</td>\n",
       "      <td>76</td>\n",
       "    </tr>\n",
       "    <tr>\n",
       "      <th>3</th>\n",
       "      <td>89</td>\n",
       "      <td>92</td>\n",
       "      <td>101</td>\n",
       "      <td>84</td>\n",
       "      <td>98</td>\n",
       "      <td>72</td>\n",
       "    </tr>\n",
       "    <tr>\n",
       "      <th>4</th>\n",
       "      <td>48</td>\n",
       "      <td>34</td>\n",
       "      <td>51</td>\n",
       "      <td>37</td>\n",
       "      <td>32</td>\n",
       "      <td>72</td>\n",
       "    </tr>\n",
       "    <tr>\n",
       "      <th>5</th>\n",
       "      <td>47</td>\n",
       "      <td>64</td>\n",
       "      <td>72</td>\n",
       "      <td>79</td>\n",
       "      <td>44</td>\n",
       "      <td>48</td>\n",
       "    </tr>\n",
       "    <tr>\n",
       "      <th>6</th>\n",
       "      <td>86</td>\n",
       "      <td>59</td>\n",
       "      <td>71</td>\n",
       "      <td>59</td>\n",
       "      <td>47</td>\n",
       "      <td>82</td>\n",
       "    </tr>\n",
       "    <tr>\n",
       "      <th>7</th>\n",
       "      <td>70</td>\n",
       "      <td>71</td>\n",
       "      <td>63</td>\n",
       "      <td>73</td>\n",
       "      <td>85</td>\n",
       "      <td>76</td>\n",
       "    </tr>\n",
       "  </tbody>\n",
       "</table>\n",
       "</div>"
      ],
      "text/plain": [
       "     1    2    3    4   5    6\n",
       "1  177  105   71   71  76  122\n",
       "2   89   95   90  102  81   76\n",
       "3   89   92  101   84  98   72\n",
       "4   48   34   51   37  32   72\n",
       "5   47   64   72   79  44   48\n",
       "6   86   59   71   59  47   82\n",
       "7   70   71   63   73  85   76"
      ]
     },
     "execution_count": 3,
     "metadata": {},
     "output_type": "execute_result"
    }
   ],
   "source": [
    "import pandas as pd\n",
    "\n",
    "df = pd.read_excel('Template.xlsm',sheetname=\"Input Demand\")\n",
    "#print(df.loc[0])\n",
    "demand = pd.DataFrame(0, index=range(1,len(df)+1), columns=range(1,len(df.loc[0])))\n",
    "#print(df)\n",
    "for i in range(0,len(df)):\n",
    "    for j in range(1,len(df.loc[0])):\n",
    "#         print(i,j)\n",
    "        demand.loc[i+1][j]=df.loc[i][j]\n",
    "demand"
   ]
  },
  {
   "cell_type": "code",
   "execution_count": 1,
   "metadata": {},
   "outputs": [
    {
     "ename": "FileNotFoundError",
     "evalue": "[Errno 2] No such file or directory: 'Template_v2.xlsm'",
     "output_type": "error",
     "traceback": [
      "\u001b[1;31m---------------------------------------------------------------------------\u001b[0m",
      "\u001b[1;31mFileNotFoundError\u001b[0m                         Traceback (most recent call last)",
      "\u001b[1;32m<ipython-input-1-807f7da6a544>\u001b[0m in \u001b[0;36m<module>\u001b[1;34m()\u001b[0m\n\u001b[0;32m      1\u001b[0m \u001b[1;32mimport\u001b[0m \u001b[0mpandas\u001b[0m \u001b[1;32mas\u001b[0m \u001b[0mpd\u001b[0m\u001b[1;33m\u001b[0m\u001b[0m\n\u001b[0;32m      2\u001b[0m \u001b[1;33m\u001b[0m\u001b[0m\n\u001b[1;32m----> 3\u001b[1;33m \u001b[0mdf\u001b[0m \u001b[1;33m=\u001b[0m \u001b[0mpd\u001b[0m\u001b[1;33m.\u001b[0m\u001b[0mread_excel\u001b[0m\u001b[1;33m(\u001b[0m\u001b[1;34m'Template_v2.xlsm'\u001b[0m\u001b[1;33m,\u001b[0m\u001b[0msheetname\u001b[0m\u001b[1;33m=\u001b[0m\u001b[1;34m\"Input Demand\"\u001b[0m\u001b[1;33m)\u001b[0m\u001b[1;33m\u001b[0m\u001b[0m\n\u001b[0m\u001b[0;32m      4\u001b[0m \u001b[0mprint\u001b[0m\u001b[1;33m(\u001b[0m\u001b[0mdf\u001b[0m\u001b[1;33m)\u001b[0m\u001b[1;33m\u001b[0m\u001b[0m\n\u001b[0;32m      5\u001b[0m \u001b[0mdemand\u001b[0m \u001b[1;33m=\u001b[0m \u001b[0mpd\u001b[0m\u001b[1;33m.\u001b[0m\u001b[0mDataFrame\u001b[0m\u001b[1;33m(\u001b[0m\u001b[1;36m0\u001b[0m\u001b[1;33m,\u001b[0m \u001b[0mindex\u001b[0m\u001b[1;33m=\u001b[0m\u001b[0mrange\u001b[0m\u001b[1;33m(\u001b[0m\u001b[1;36m1\u001b[0m\u001b[1;33m,\u001b[0m\u001b[0mlen\u001b[0m\u001b[1;33m(\u001b[0m\u001b[0mdf\u001b[0m\u001b[1;33m)\u001b[0m\u001b[1;33m+\u001b[0m\u001b[1;36m1\u001b[0m\u001b[1;33m)\u001b[0m\u001b[1;33m,\u001b[0m \u001b[0mcolumns\u001b[0m\u001b[1;33m=\u001b[0m\u001b[0mrange\u001b[0m\u001b[1;33m(\u001b[0m\u001b[1;36m1\u001b[0m\u001b[1;33m,\u001b[0m\u001b[0mlen\u001b[0m\u001b[1;33m(\u001b[0m\u001b[0mdf\u001b[0m\u001b[1;33m.\u001b[0m\u001b[0mloc\u001b[0m\u001b[1;33m[\u001b[0m\u001b[1;36m0\u001b[0m\u001b[1;33m]\u001b[0m\u001b[1;33m)\u001b[0m\u001b[1;33m-\u001b[0m\u001b[1;36m1\u001b[0m\u001b[1;33m)\u001b[0m\u001b[1;33m)\u001b[0m\u001b[1;33m\u001b[0m\u001b[0m\n",
      "\u001b[1;32mC:\\ProgramData\\Anaconda3\\lib\\site-packages\\pandas\\io\\excel.py\u001b[0m in \u001b[0;36mread_excel\u001b[1;34m(io, sheetname, header, skiprows, skip_footer, index_col, names, parse_cols, parse_dates, date_parser, na_values, thousands, convert_float, has_index_names, converters, dtype, true_values, false_values, engine, squeeze, **kwds)\u001b[0m\n\u001b[0;32m    198\u001b[0m \u001b[1;33m\u001b[0m\u001b[0m\n\u001b[0;32m    199\u001b[0m     \u001b[1;32mif\u001b[0m \u001b[1;32mnot\u001b[0m \u001b[0misinstance\u001b[0m\u001b[1;33m(\u001b[0m\u001b[0mio\u001b[0m\u001b[1;33m,\u001b[0m \u001b[0mExcelFile\u001b[0m\u001b[1;33m)\u001b[0m\u001b[1;33m:\u001b[0m\u001b[1;33m\u001b[0m\u001b[0m\n\u001b[1;32m--> 200\u001b[1;33m         \u001b[0mio\u001b[0m \u001b[1;33m=\u001b[0m \u001b[0mExcelFile\u001b[0m\u001b[1;33m(\u001b[0m\u001b[0mio\u001b[0m\u001b[1;33m,\u001b[0m \u001b[0mengine\u001b[0m\u001b[1;33m=\u001b[0m\u001b[0mengine\u001b[0m\u001b[1;33m)\u001b[0m\u001b[1;33m\u001b[0m\u001b[0m\n\u001b[0m\u001b[0;32m    201\u001b[0m \u001b[1;33m\u001b[0m\u001b[0m\n\u001b[0;32m    202\u001b[0m     return io._parse_excel(\n",
      "\u001b[1;32mC:\\ProgramData\\Anaconda3\\lib\\site-packages\\pandas\\io\\excel.py\u001b[0m in \u001b[0;36m__init__\u001b[1;34m(self, io, **kwds)\u001b[0m\n\u001b[0;32m    255\u001b[0m             \u001b[0mself\u001b[0m\u001b[1;33m.\u001b[0m\u001b[0mbook\u001b[0m \u001b[1;33m=\u001b[0m \u001b[0mxlrd\u001b[0m\u001b[1;33m.\u001b[0m\u001b[0mopen_workbook\u001b[0m\u001b[1;33m(\u001b[0m\u001b[0mfile_contents\u001b[0m\u001b[1;33m=\u001b[0m\u001b[0mdata\u001b[0m\u001b[1;33m)\u001b[0m\u001b[1;33m\u001b[0m\u001b[0m\n\u001b[0;32m    256\u001b[0m         \u001b[1;32melif\u001b[0m \u001b[0misinstance\u001b[0m\u001b[1;33m(\u001b[0m\u001b[0mio\u001b[0m\u001b[1;33m,\u001b[0m \u001b[0mcompat\u001b[0m\u001b[1;33m.\u001b[0m\u001b[0mstring_types\u001b[0m\u001b[1;33m)\u001b[0m\u001b[1;33m:\u001b[0m\u001b[1;33m\u001b[0m\u001b[0m\n\u001b[1;32m--> 257\u001b[1;33m             \u001b[0mself\u001b[0m\u001b[1;33m.\u001b[0m\u001b[0mbook\u001b[0m \u001b[1;33m=\u001b[0m \u001b[0mxlrd\u001b[0m\u001b[1;33m.\u001b[0m\u001b[0mopen_workbook\u001b[0m\u001b[1;33m(\u001b[0m\u001b[0mio\u001b[0m\u001b[1;33m)\u001b[0m\u001b[1;33m\u001b[0m\u001b[0m\n\u001b[0m\u001b[0;32m    258\u001b[0m         \u001b[1;32melse\u001b[0m\u001b[1;33m:\u001b[0m\u001b[1;33m\u001b[0m\u001b[0m\n\u001b[0;32m    259\u001b[0m             raise ValueError('Must explicitly set engine if not passing in'\n",
      "\u001b[1;32mC:\\ProgramData\\Anaconda3\\lib\\site-packages\\xlrd\\__init__.py\u001b[0m in \u001b[0;36mopen_workbook\u001b[1;34m(filename, logfile, verbosity, use_mmap, file_contents, encoding_override, formatting_info, on_demand, ragged_rows)\u001b[0m\n\u001b[0;32m    393\u001b[0m         \u001b[0mpeek\u001b[0m \u001b[1;33m=\u001b[0m \u001b[0mfile_contents\u001b[0m\u001b[1;33m[\u001b[0m\u001b[1;33m:\u001b[0m\u001b[0mpeeksz\u001b[0m\u001b[1;33m]\u001b[0m\u001b[1;33m\u001b[0m\u001b[0m\n\u001b[0;32m    394\u001b[0m     \u001b[1;32melse\u001b[0m\u001b[1;33m:\u001b[0m\u001b[1;33m\u001b[0m\u001b[0m\n\u001b[1;32m--> 395\u001b[1;33m         \u001b[1;32mwith\u001b[0m \u001b[0mopen\u001b[0m\u001b[1;33m(\u001b[0m\u001b[0mfilename\u001b[0m\u001b[1;33m,\u001b[0m \u001b[1;34m\"rb\"\u001b[0m\u001b[1;33m)\u001b[0m \u001b[1;32mas\u001b[0m \u001b[0mf\u001b[0m\u001b[1;33m:\u001b[0m\u001b[1;33m\u001b[0m\u001b[0m\n\u001b[0m\u001b[0;32m    396\u001b[0m             \u001b[0mpeek\u001b[0m \u001b[1;33m=\u001b[0m \u001b[0mf\u001b[0m\u001b[1;33m.\u001b[0m\u001b[0mread\u001b[0m\u001b[1;33m(\u001b[0m\u001b[0mpeeksz\u001b[0m\u001b[1;33m)\u001b[0m\u001b[1;33m\u001b[0m\u001b[0m\n\u001b[0;32m    397\u001b[0m     \u001b[1;32mif\u001b[0m \u001b[0mpeek\u001b[0m \u001b[1;33m==\u001b[0m \u001b[1;34mb\"PK\\x03\\x04\"\u001b[0m\u001b[1;33m:\u001b[0m \u001b[1;31m# a ZIP file\u001b[0m\u001b[1;33m\u001b[0m\u001b[0m\n",
      "\u001b[1;31mFileNotFoundError\u001b[0m: [Errno 2] No such file or directory: 'Template_v2.xlsm'"
     ]
    }
   ],
   "source": [
    "import pandas as pd\n",
    "\n",
    "df = pd.read_excel('Template_v2.xlsm',sheetname=\"Input Demand\")\n",
    "print(df)\n",
    "demand = pd.DataFrame(0, index=range(1,len(df)+1), columns=range(1,len(df.loc[0])-1))\n",
    "#print(df)\n",
    "for i in range(0,len(df)):\n",
    "    for j in range(1,len(df.loc[0])):\n",
    "#         print(i,j)\n",
    "        demand.loc[i+1][j]=df.loc[i][j]\n",
    "demand"
   ]
  },
  {
   "cell_type": "code",
   "execution_count": 187,
   "metadata": {},
   "outputs": [
    {
     "name": "stdout",
     "output_type": "stream",
     "text": [
      "   bird_size        days   1   2   3   4   5   6   7\n",
      "0          M        ribs  48  48  45  39  38  46  47\n",
      "1          M       keels  46  51  46  40  51  47  42\n",
      "2          M        legs  41  46  56  53  51  40  56\n",
      "3          M       thigh  39  33  37  25  34  33  33\n",
      "4          M       wings  29  31  36  24  29  28  30\n",
      "5          M     breasts  35  25  24  31  24  31  27\n",
      "6          M  drumsticks  38  41  41  46  46  51  51\n",
      "7         ML        ribs  45  42  38  50  50  44  52\n",
      "8         ML       keels  54  33  35  42  47  55  42\n",
      "9         ML        legs  39  49  50  50  43  40  56\n",
      "10        ML       thigh  25  26  24  31  35  35  32\n",
      "11        ML       wings  30  33  29  39  38  25  32\n",
      "12        ML     breasts  32  33  33  31  37  27  37\n",
      "13        ML  drumsticks  39  51  44  54  45  59  38\n",
      "    1  2  3  4  5  6  7\n",
      "1   0  0  0  0  0  0  0\n",
      "2   0  0  0  0  0  0  0\n",
      "3   0  0  0  0  0  0  0\n",
      "4   0  0  0  0  0  0  0\n",
      "5   0  0  0  0  0  0  0\n",
      "6   0  0  0  0  0  0  0\n",
      "7   0  0  0  0  0  0  0\n",
      "8   0  0  0  0  0  0  0\n",
      "9   0  0  0  0  0  0  0\n",
      "10  0  0  0  0  0  0  0\n",
      "11  0  0  0  0  0  0  0\n",
      "12  0  0  0  0  0  0  0\n",
      "13  0  0  0  0  0  0  0\n",
      "14  0  0  0  0  0  0  0\n"
     ]
    },
    {
     "ename": "IndexError",
     "evalue": "list assignment index out of range",
     "output_type": "error",
     "traceback": [
      "\u001b[1;31m---------------------------------------------------------------------------\u001b[0m",
      "\u001b[1;31mIndexError\u001b[0m                                Traceback (most recent call last)",
      "\u001b[1;32m<ipython-input-187-2c277510c26e>\u001b[0m in \u001b[0;36m<module>\u001b[1;34m()\u001b[0m\n\u001b[0;32m     10\u001b[0m     \u001b[1;32mfor\u001b[0m \u001b[0mj\u001b[0m \u001b[1;32min\u001b[0m \u001b[0mrange\u001b[0m\u001b[1;33m(\u001b[0m\u001b[1;36m1\u001b[0m\u001b[1;33m,\u001b[0m\u001b[0mlen\u001b[0m\u001b[1;33m(\u001b[0m\u001b[0mnew\u001b[0m\u001b[1;33m[\u001b[0m\u001b[1;36m0\u001b[0m\u001b[1;33m]\u001b[0m\u001b[1;33m)\u001b[0m\u001b[1;33m+\u001b[0m\u001b[1;36m1\u001b[0m\u001b[1;33m)\u001b[0m\u001b[1;33m:\u001b[0m\u001b[1;33m\u001b[0m\u001b[0m\n\u001b[0;32m     11\u001b[0m         \u001b[1;32mfor\u001b[0m \u001b[0mk\u001b[0m \u001b[1;32min\u001b[0m \u001b[0mrange\u001b[0m\u001b[1;33m(\u001b[0m\u001b[1;36m1\u001b[0m\u001b[1;33m,\u001b[0m\u001b[0mlen\u001b[0m\u001b[1;33m(\u001b[0m\u001b[0mnew\u001b[0m\u001b[1;33m[\u001b[0m\u001b[1;36m0\u001b[0m\u001b[1;33m]\u001b[0m\u001b[1;33m[\u001b[0m\u001b[1;36m0\u001b[0m\u001b[1;33m]\u001b[0m\u001b[1;33m)\u001b[0m\u001b[1;33m+\u001b[0m\u001b[1;36m1\u001b[0m\u001b[1;33m)\u001b[0m\u001b[1;33m:\u001b[0m\u001b[1;33m\u001b[0m\u001b[0m\n\u001b[1;32m---> 12\u001b[1;33m             \u001b[0mnew\u001b[0m\u001b[1;33m[\u001b[0m\u001b[0mi\u001b[0m\u001b[1;33m]\u001b[0m\u001b[1;33m[\u001b[0m\u001b[0mj\u001b[0m\u001b[1;33m]\u001b[0m\u001b[1;33m[\u001b[0m\u001b[0mk\u001b[0m\u001b[1;33m]\u001b[0m \u001b[1;33m=\u001b[0m \u001b[1;33m(\u001b[0m\u001b[0mi\u001b[0m\u001b[1;33m,\u001b[0m\u001b[0mj\u001b[0m\u001b[1;33m,\u001b[0m\u001b[0mk\u001b[0m\u001b[1;33m)\u001b[0m\u001b[1;33m\u001b[0m\u001b[0m\n\u001b[0m\u001b[0;32m     13\u001b[0m \u001b[0mprint\u001b[0m\u001b[1;33m(\u001b[0m\u001b[0mlen\u001b[0m\u001b[1;33m(\u001b[0m\u001b[0mnew\u001b[0m\u001b[1;33m)\u001b[0m\u001b[1;33m,\u001b[0m\u001b[0mlen\u001b[0m\u001b[1;33m(\u001b[0m\u001b[0mnew\u001b[0m\u001b[1;33m[\u001b[0m\u001b[1;36m0\u001b[0m\u001b[1;33m]\u001b[0m\u001b[1;33m)\u001b[0m\u001b[1;33m,\u001b[0m\u001b[0mlen\u001b[0m\u001b[1;33m(\u001b[0m\u001b[0mnew\u001b[0m\u001b[1;33m[\u001b[0m\u001b[1;36m0\u001b[0m\u001b[1;33m]\u001b[0m\u001b[1;33m[\u001b[0m\u001b[1;36m0\u001b[0m\u001b[1;33m]\u001b[0m\u001b[1;33m)\u001b[0m\u001b[1;33m)\u001b[0m\u001b[1;33m\u001b[0m\u001b[0m\n\u001b[0;32m     14\u001b[0m \u001b[0mprint\u001b[0m\u001b[1;33m(\u001b[0m\u001b[0mnew\u001b[0m\u001b[1;33m)\u001b[0m\u001b[1;33m\u001b[0m\u001b[0m\n",
      "\u001b[1;31mIndexError\u001b[0m: list assignment index out of range"
     ]
    }
   ],
   "source": [
    "import pandas as pd\n",
    "\n",
    "df = pd.read_excel('Template_v2.xlsm',sheetname=\"Input Demand\")\n",
    "print(df)\n",
    "demand = pd.DataFrame(0, index=range(1,len(df)+1), columns=range(1,len(df.loc[0])-1))\n",
    "print(demand)\n",
    "bird_type = set(df['bird_size'])\n",
    "new = [[[0 for i in range(1,int(len(df)/len(bird_type)))] for j in range(1,len(df.loc[0]))] for k in range(1,len(bird_type)+1)]\n",
    "for i in range(1,len(new)+1):\n",
    "    for j in range(1,len(new[0])+1):\n",
    "        for k in range(1,len(new[0][0])+1):\n",
    "            new[i][j][k] = (i,j,k)\n",
    "print(len(new),len(new[0]),len(new[0][0]))\n",
    "print(new)\n",
    "print(set(df['bird_size']))\n",
    "for k in range(len(set(df['bird_size']))):\n",
    "    for j in range(1,len(df.loc[0])):\n",
    "        for i in range(0,len(df)):\n",
    "        \n",
    "            print(i,j,k)\n",
    "            new[i][j][k]=df.loc[i][j]\n",
    "new"
   ]
  },
  {
   "cell_type": "code",
   "execution_count": 200,
   "metadata": {},
   "outputs": [
    {
     "name": "stdout",
     "output_type": "stream",
     "text": [
      "   bird_size        days   1   2   3   4   5   6   7\n",
      "0          M        ribs  48  48  45  39  38  46  47\n",
      "1          M       keels  46  51  46  40  51  47  42\n",
      "2          M        legs  41  46  56  53  51  40  56\n",
      "3          M       thigh  39  33  37  25  34  33  33\n",
      "4          M       wings  29  31  36  24  29  28  30\n",
      "5          M     breasts  35  25  24  31  24  31  27\n",
      "6          M  drumsticks  38  41  41  46  46  51  51\n",
      "7         ML        ribs  45  42  38  50  50  44  52\n",
      "8         ML       keels  54  33  35  42  47  55  42\n",
      "9         ML        legs  39  49  50  50  43  40  56\n",
      "10        ML       thigh  25  26  24  31  35  35  32\n",
      "11        ML       wings  30  33  29  39  38  25  32\n",
      "12        ML     breasts  32  33  33  31  37  27  37\n",
      "13        ML  drumsticks  39  51  44  54  45  59  38\n",
      "[33]\n"
     ]
    }
   ],
   "source": [
    "import pandas as pd\n",
    "import os\n",
    "os.chdir('C:/Users/administrator/Desktop/SNO')\n",
    "df = pd.read_excel('Template_v2.xlsm',sheetname=\"Input Demand\")\n",
    "print(df)\n",
    "demand = pd.DataFrame(0, index=range(1,len(df)+1), columns=range(1,len(df.loc[0])-1))\n",
    "#print(df)\n",
    "for i in range(0,len(df)):\n",
    "    for j in range(1,len(df.loc[0])):\n",
    "#         print(i,j)\n",
    "        demand.loc[i+1][j]=df.loc[i][j]\n",
    "p =[[[cell] for cell in row] for _, row in demand.iterrows()]\n",
    "# print(len(bird_type))\n",
    "l = len(bird_type)\n",
    "new = [[] for i in range(int(l))]\n",
    "\n",
    "\n",
    "for i in range(int(l)):\n",
    "        new[i].extend(p[i*7:7*i+7])\n",
    "\n",
    "print(new[1][1][1])"
   ]
  },
  {
   "cell_type": "code",
   "execution_count": 34,
   "metadata": {},
   "outputs": [
    {
     "data": {
      "text/plain": [
       "Index(['ribs_M', 'keels_M', 'legs_M', 'thigh_M', 'wings_M', 'breasts_M',\n",
       "       'drumsticks_M', 'ribs_ML', 'keels_ML', 'legs_ML', 'thigh_ML',\n",
       "       'wings_ML', 'breasts_ML', 'drumsticks_ML'],\n",
       "      dtype='object')"
      ]
     },
     "execution_count": 34,
     "metadata": {},
     "output_type": "execute_result"
    }
   ],
   "source": [
    "import pandas as pd\n",
    "\n",
    "df = pd.read_excel('Template_v2.xlsm',sheetname=\"Input Demand\")\n",
    "l= (df['days']+'_'+df['bird_size'])\n",
    "demand = pd.DataFrame(0, index=l, columns=range(1,len(df.loc[0])-1))\n",
    "# #print(df)\n",
    "# for i in l:\n",
    "#     print(demand.loc[i])\n",
    "for (i,k) in zip(l,range(len(df))):\n",
    "     for j in range(1,len(df.loc[0])):\n",
    "# #         print(i,j)\n",
    "        demand.loc[i][j]=df.loc[k][j]\n",
    "# demand\n",
    "demand.index"
   ]
  },
  {
   "cell_type": "code",
   "execution_count": 40,
   "metadata": {},
   "outputs": [
    {
     "name": "stdout",
     "output_type": "stream",
     "text": [
      "['ribs_M', 'ribs_ML']\n"
     ]
    }
   ],
   "source": [
    "mylist = demand.index\n",
    "r = re.compile(\"ribs*.\")\n",
    "newlist = filter(r.match, mylist)\n",
    "print(list(newlist))"
   ]
  },
  {
   "cell_type": "code",
   "execution_count": 46,
   "metadata": {},
   "outputs": [
    {
     "data": {
      "text/plain": [
       "['6P_M', '6P_ML', '7P_M', '7P_ML', '8P_M', '8P_ML', '9P_M', '9P_ML']"
      ]
     },
     "execution_count": 46,
     "metadata": {},
     "output_type": "execute_result"
    }
   ],
   "source": [
    "bird_type = list(set(df['bird_size']))\n",
    "cut_type = [\"6P\",\"7P\",\"8P\",\"9P\"]\n",
    "bird_cut_type = []\n",
    "for i in cut_type:\n",
    "    for j in bird_type:\n",
    "        bird_cut_type.append(i+\"_\"+j)\n",
    "bird_cut_type"
   ]
  },
  {
   "cell_type": "code",
   "execution_count": 47,
   "metadata": {
    "scrolled": true
   },
   "outputs": [
    {
     "name": "stdout",
     "output_type": "stream",
     "text": [
      "['6P_M', '6P_ML']\n"
     ]
    }
   ],
   "source": [
    "r = re.compile(\"6P*.\")\n",
    "newlist = filter(r.match, bird_cut_type)\n",
    "print(list(newlist))"
   ]
  }
 ],
 "metadata": {
  "kernelspec": {
   "display_name": "Python 2",
   "language": "python",
   "name": "python2"
  },
  "language_info": {
   "codemirror_mode": {
    "name": "ipython",
    "version": 2
   },
   "file_extension": ".py",
   "mimetype": "text/x-python",
   "name": "python",
   "nbconvert_exporter": "python",
   "pygments_lexer": "ipython2",
   "version": "2.7.12"
  }
 },
 "nbformat": 4,
 "nbformat_minor": 2
}
