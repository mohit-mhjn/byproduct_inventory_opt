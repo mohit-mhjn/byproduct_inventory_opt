{
 "cells": [
  {
   "cell_type": "code",
   "execution_count": 1,
   "metadata": {
    "collapsed": false
   },
   "outputs": [
    {
     "ename": "ModuleNotFoundError",
     "evalue": "No module named 'pandas'",
     "output_type": "error",
     "traceback": [
      "\u001b[0;31m---------------------------------------------------------------------------\u001b[0m",
      "\u001b[0;31mModuleNotFoundError\u001b[0m                       Traceback (most recent call last)",
      "\u001b[0;32m<ipython-input-1-af55e7023913>\u001b[0m in \u001b[0;36m<module>\u001b[0;34m()\u001b[0m\n\u001b[0;32m----> 1\u001b[0;31m \u001b[0;32mimport\u001b[0m \u001b[0mpandas\u001b[0m \u001b[0;32mas\u001b[0m \u001b[0mpd\u001b[0m\u001b[0;34m\u001b[0m\u001b[0m\n\u001b[0m",
      "\u001b[0;31mModuleNotFoundError\u001b[0m: No module named 'pandas'"
     ]
    }
   ],
   "source": [
    "import pandas as pd"
   ]
  },
  {
   "cell_type": "code",
   "execution_count": 2,
   "metadata": {
    "collapsed": false
   },
   "outputs": [],
   "source": [
    "def getSheetName(file_name):\n",
    "    pointSheetObj = []\n",
    "    import xlrd as xl\n",
    "    TeamPointWorkbook = xl.open_workbook(file_name)\n",
    "    pointSheets = TeamPointWorkbook.sheet_names()\n",
    "\n",
    "    for i in pointSheets:\n",
    "        pointSheetObj.append(tuple((TeamPointWorkbook.sheet_by_name(i),i)))\n",
    "    return pointSheetObj"
   ]
  },
  {
   "cell_type": "code",
   "execution_count": 3,
   "metadata": {
    "collapsed": false
   },
   "outputs": [
    {
     "data": {
      "text/plain": [
       "[(<xlrd.sheet.Sheet at 0x7fcfd5b19d50>, u'Information'),\n",
       " (<xlrd.sheet.Sheet at 0x7fcfd5b19d90>, u'Demand_Fresh'),\n",
       " (<xlrd.sheet.Sheet at 0x7fcfd5b19dd0>, u'Demand_Frozen'),\n",
       " (<xlrd.sheet.Sheet at 0x7fcfd5b19e10>, u'Selling_Price_Fresh'),\n",
       " (<xlrd.sheet.Sheet at 0x7fcfd5b19e50>, u'Selling_Price_Frozen'),\n",
       " (<xlrd.sheet.Sheet at 0x7fcfd5b19e90>, u'Penalty_Fresh'),\n",
       " (<xlrd.sheet.Sheet at 0x7fcfd5b19f10>, u'Penalty_Frozen'),\n",
       " (<xlrd.sheet.Sheet at 0x7fcfd5b19f50>, u'Holding_Cost_Fresh'),\n",
       " (<xlrd.sheet.Sheet at 0x7fcfd5b19f90>, u'Holding_Cost_Frozen'),\n",
       " (<xlrd.sheet.Sheet at 0x7fcfd5b19fd0>, u'Operational_Cost'),\n",
       " (<xlrd.sheet.Sheet at 0x7fcfd5895090>, u'Operation_Time'),\n",
       " (<xlrd.sheet.Sheet at 0x7fcfd58950d0>, u'Operational_Cost_Overtime'),\n",
       " (<xlrd.sheet.Sheet at 0x7fcfd5895150>, u'Cutting_Pattern'),\n",
       " (<xlrd.sheet.Sheet at 0x7fcfd5895190>, u'Item_Product_Group_Map'),\n",
       " (<xlrd.sheet.Sheet at 0x7fcfd58951d0>, u'Available_Hour_Regular'),\n",
       " (<xlrd.sheet.Sheet at 0x7fcfd5895250>, u'Bird_Type_Ratio'),\n",
       " (<xlrd.sheet.Sheet at 0x7fcfd5895290>, u'Common_Data'),\n",
       " (<xlrd.sheet.Sheet at 0x7fcfd58952d0>, u'Availability'),\n",
       " (<xlrd.sheet.Sheet at 0x7fcfd5895310>, u'Available_Hour_Overtime'),\n",
       " (<xlrd.sheet.Sheet at 0x7fcfd5895350>, u'Initial_Inventory'),\n",
       " (<xlrd.sheet.Sheet at 0x7fcfd58953d0>, u'SKU Conversion'),\n",
       " (<xlrd.sheet.Sheet at 0x7fcfd5895410>, u'Product_Group_Yield'),\n",
       " (<xlrd.sheet.Sheet at 0x7fcfd5895450>, u'Raw_Material'),\n",
       " (<xlrd.sheet.Sheet at 0x7fcfd5895490>, u'Fresh_Frozen_Relation'),\n",
       " (<xlrd.sheet.Sheet at 0x7fcfd58954d0>, u'Shelf_Life'),\n",
       " (<xlrd.sheet.Sheet at 0x7fcfd5895550>, u'Yield_Originals'),\n",
       " (<xlrd.sheet.Sheet at 0x7fcfd5895590>, u'Yield')]"
      ]
     },
     "execution_count": 3,
     "metadata": {},
     "output_type": "execute_result"
    }
   ],
   "source": [
    "p = getSheetName('Model_Input_Final.xlsm')\n",
    "p"
   ]
  },
  {
   "cell_type": "code",
   "execution_count": 6,
   "metadata": {
    "collapsed": true
   },
   "outputs": [],
   "source": [
    "demand_fresh = pd.read_excel('Model_Input.xlsm', sheet_name=\"Demand_Fresh\")\n",
    "demand_fresh = demand_fresh.dropna(axis='columns', how='all')"
   ]
  },
  {
   "cell_type": "code",
   "execution_count": 7,
   "metadata": {
    "collapsed": false
   },
   "outputs": [
    {
     "data": {
      "text/plain": [
       "Index(['item code ', 'item description', 'Week 1', 'Week 2', 'Week 3',\n",
       "       'Week 4', 'Unnamed: 12'],\n",
       "      dtype='object')"
      ]
     },
     "execution_count": 7,
     "metadata": {},
     "output_type": "execute_result"
    }
   ],
   "source": [
    "demand_fresh.columns"
   ]
  },
  {
   "cell_type": "code",
   "execution_count": 80,
   "metadata": {
    "collapsed": false
   },
   "outputs": [
    {
     "data": {
      "text/plain": [
       "{'3 JOINT WING JC ',\n",
       " '4 PC CUT WO SKIN X 2 BIRDS ',\n",
       " '9 PCCUT CHIC - KFC HS ',\n",
       " '9 PCCUT CHIC - KFC OR (WO 3JW) ',\n",
       " 'BLACK PEPPER ROAST CHICKEN 1.1 ',\n",
       " 'BLACK PEPPER ROAST QUARTER LEG ',\n",
       " 'BONELESS THIGH (75-85G) ',\n",
       " 'CHICKEN HEAD ',\n",
       " 'CHICKEN SKIN ',\n",
       " 'CHILL MAR ORI CHIC QTR (TEXAS) ',\n",
       " \"CHILL MAR ORI CHICKEN WENDY'S \",\n",
       " 'CHILL MAR. ORI CHICKEN (TEXAS) ',\n",
       " 'DRUMMET MF (38-50G) 150PC ',\n",
       " 'DRUMSTICK ',\n",
       " 'DRUMSTICK (100-140G) 20PC ',\n",
       " 'DRUMSTICK CUBE ',\n",
       " 'FILLET ',\n",
       " 'HONEY ROAST QUARTER LEG ',\n",
       " 'HOT & SPICY ROAST QUARTER LEG ',\n",
       " 'LEG BONE ',\n",
       " 'LIVER BROKEN ',\n",
       " 'LIVER WITHOUT HEART 125G ',\n",
       " \"MAR BREAST NANDO'S 5PC \",\n",
       " 'MAR BSL THIGH 5070 ND-10P ',\n",
       " 'MAR CHICKEN BLK PEPPER (BFLY) ',\n",
       " 'MAR CHICKEN HONEY (BFLY) ',\n",
       " 'MAR CHICKEN HOT & SPICY (BFLY) ',\n",
       " 'MAR CHICKEN PERCIK (BFLY) ',\n",
       " \"MAR FILLET NANDO'S-20PC \",\n",
       " 'MAR QLEG KUNYIT-EK (250-270G) ',\n",
       " 'MAR THI TURMERIC-EK(140-160G) ',\n",
       " 'MAR WHOLE BIRD KRR-BP 10BDS C ',\n",
       " 'MAR WHOLE BIRD KRR-MEX 10BDS C ',\n",
       " 'MAR WHOLE BIRD KRR-OR 10BDS C ',\n",
       " 'MAR WHOLE BIRD NANDOS-OR 2BDS ',\n",
       " 'MAR WHOLE BIRD NANDOS-OR 4BDS ',\n",
       " \"MAR WING NANDO'S 20PC \",\n",
       " \"MAR WING NANDO'S 9PC \",\n",
       " 'MAR. 9PC CUT MCD-HS 18PC ',\n",
       " 'MAR. 9PC CUT MCD-OR 18PC ',\n",
       " 'MAR. BL BREAST BFLY ND 4PC ',\n",
       " 'MID JOINT WING MF(30-40)150PC ',\n",
       " 'QUARTER LEG ',\n",
       " 'QUARTER LEG (220-270G) 10PC ',\n",
       " 'RIB ',\n",
       " 'ROAST CHICKEN HONEY 2BDS ',\n",
       " 'ROAST CHICKEN HOT & SPICY 2BDS ',\n",
       " 'ROAST CHICKEN PERCIK 2BDS ',\n",
       " 'ROAST WHOLE CHIC B.PEPPER M1 ',\n",
       " 'ROAST WHOLE CHIC MAHSURI M1 ',\n",
       " 'ROAST WHOLE CHICKEN HONEY M1 ',\n",
       " \"S'LESS B'LESS THIGH (FAT FREE) \",\n",
       " 'THIGH ',\n",
       " 'WHOLE BIRD L1 (GIBLET 4 IN 1 ) ',\n",
       " 'WHOLE CHIC(M2)1351-1650GSP GCH ',\n",
       " 'WHOLE CHICKEN WITH H&F&G (L1) '}"
      ]
     },
     "execution_count": 80,
     "metadata": {},
     "output_type": "execute_result"
    }
   ],
   "source": [
    "(set(demand_fresh['item description'])).difference(set(frozen['item description']))\n",
    "(set(demand_fresh['item description'])).difference(set(frozen['item description']))"
   ]
  },
  {
   "cell_type": "code",
   "execution_count": 71,
   "metadata": {
    "collapsed": false
   },
   "outputs": [
    {
     "data": {
      "text/plain": [
       "117"
      ]
     },
     "execution_count": 71,
     "metadata": {},
     "output_type": "execute_result"
    }
   ],
   "source": [
    "len(set(frozen['item description']))"
   ]
  },
  {
   "cell_type": "code",
   "execution_count": 20,
   "metadata": {
    "collapsed": false
   },
   "outputs": [
    {
     "name": "stderr",
     "output_type": "stream",
     "text": [
      "/usr/local/lib/python3.5/dist-packages/pandas/util/_decorators.py:118: FutureWarning: The `sheetname` keyword is deprecated, use `sheet_name` instead\n",
      "  return func(*args, **kwargs)\n"
     ]
    }
   ],
   "source": [
    "frozen = pd.read_excel('Model_Input.xlsm', sheetname=\"Demand_Frozen\")\n",
    "frozen = frozen.dropna(axis='columns', how='all')"
   ]
  },
  {
   "cell_type": "code",
   "execution_count": 34,
   "metadata": {
    "collapsed": true
   },
   "outputs": [],
   "source": [
    "fro = []\n",
    "for i in set(frozen['item description'].unique()):\n",
    "    fro.append(i[:-2])"
   ]
  },
  {
   "cell_type": "code",
   "execution_count": 36,
   "metadata": {
    "collapsed": false
   },
   "outputs": [
    {
     "data": {
      "text/plain": [
       "119"
      ]
     },
     "execution_count": 36,
     "metadata": {},
     "output_type": "execute_result"
    }
   ],
   "source": [
    "len(fro)"
   ]
  },
  {
   "cell_type": "code",
   "execution_count": 33,
   "metadata": {
    "collapsed": true
   },
   "outputs": [],
   "source": [
    "fre = []\n",
    "for i in set(demand_fresh['item code '].unique()):\n",
    "    fre.append(i[:-2])"
   ]
  },
  {
   "cell_type": "code",
   "execution_count": 37,
   "metadata": {
    "collapsed": false
   },
   "outputs": [
    {
     "data": {
      "text/plain": [
       "109"
      ]
     },
     "execution_count": 37,
     "metadata": {},
     "output_type": "execute_result"
    }
   ],
   "source": [
    "len(fre)"
   ]
  },
  {
   "cell_type": "code",
   "execution_count": 66,
   "metadata": {
    "collapsed": false
   },
   "outputs": [
    {
     "data": {
      "text/plain": [
       "51"
      ]
     },
     "execution_count": 66,
     "metadata": {},
     "output_type": "execute_result"
    }
   ],
   "source": [
    "len(set(fre).intersection(set(fro)))"
   ]
  },
  {
   "cell_type": "code",
   "execution_count": 65,
   "metadata": {
    "collapsed": false
   },
   "outputs": [
    {
     "data": {
      "text/plain": [
       "set()"
      ]
     },
     "execution_count": 65,
     "metadata": {},
     "output_type": "execute_result"
    }
   ],
   "source": [
    "(set(fro).difference(set(fre)))"
   ]
  },
  {
   "cell_type": "code",
   "execution_count": 46,
   "metadata": {
    "collapsed": false
   },
   "outputs": [
    {
     "data": {
      "text/plain": [
       "178"
      ]
     },
     "execution_count": 46,
     "metadata": {},
     "output_type": "execute_result"
    }
   ],
   "source": [
    "len(set(fre).union(set(fro)))"
   ]
  },
  {
   "cell_type": "code",
   "execution_count": 10,
   "metadata": {
    "collapsed": false
   },
   "outputs": [
    {
     "name": "stderr",
     "output_type": "stream",
     "text": [
      "/usr/local/lib/python3.5/dist-packages/pandas/util/_decorators.py:118: FutureWarning: The `sheetname` keyword is deprecated, use `sheet_name` instead\n",
      "  return func(*args, **kwargs)\n"
     ]
    }
   ],
   "source": [
    "shelf_life = pd.read_excel('Model_Input.xlsm', sheetname=\"Shelf_Life\")\n",
    "shelf_life = shelf_life.dropna(axis='columns', how='all')"
   ]
  },
  {
   "cell_type": "code",
   "execution_count": 11,
   "metadata": {
    "collapsed": false
   },
   "outputs": [
    {
     "data": {
      "text/html": [
       "<div>\n",
       "<style scoped>\n",
       "    .dataframe tbody tr th:only-of-type {\n",
       "        vertical-align: middle;\n",
       "    }\n",
       "\n",
       "    .dataframe tbody tr th {\n",
       "        vertical-align: top;\n",
       "    }\n",
       "\n",
       "    .dataframe thead th {\n",
       "        text-align: right;\n",
       "    }\n",
       "</style>\n",
       "<table border=\"1\" class=\"dataframe\">\n",
       "  <thead>\n",
       "    <tr style=\"text-align: right;\">\n",
       "      <th></th>\n",
       "      <th>item code</th>\n",
       "      <th>Shelf_Life</th>\n",
       "    </tr>\n",
       "  </thead>\n",
       "  <tbody>\n",
       "    <tr>\n",
       "      <th>0</th>\n",
       "      <td>BBR0F0000K02DC</td>\n",
       "      <td>3</td>\n",
       "    </tr>\n",
       "    <tr>\n",
       "      <th>1</th>\n",
       "      <td>BBRSF0000K02DC</td>\n",
       "      <td>4</td>\n",
       "    </tr>\n",
       "    <tr>\n",
       "      <th>2</th>\n",
       "      <td>BBRSF0000RETDC</td>\n",
       "      <td>5</td>\n",
       "    </tr>\n",
       "    <tr>\n",
       "      <th>3</th>\n",
       "      <td>BBRSMF000K04DC</td>\n",
       "      <td>6</td>\n",
       "    </tr>\n",
       "    <tr>\n",
       "      <th>4</th>\n",
       "      <td>BFL0F0000K02DC</td>\n",
       "      <td>7</td>\n",
       "    </tr>\n",
       "    <tr>\n",
       "      <th>5</th>\n",
       "      <td>BLG0F0000K02DC</td>\n",
       "      <td>8</td>\n",
       "    </tr>\n",
       "    <tr>\n",
       "      <th>6</th>\n",
       "      <td>BLGSF0000K02DC</td>\n",
       "      <td>9</td>\n",
       "    </tr>\n",
       "    <tr>\n",
       "      <th>7</th>\n",
       "      <td>BTH007585K04DC</td>\n",
       "      <td>10</td>\n",
       "    </tr>\n",
       "    <tr>\n",
       "      <th>8</th>\n",
       "      <td>BTHSF0000K02DC</td>\n",
       "      <td>11</td>\n",
       "    </tr>\n",
       "    <tr>\n",
       "      <th>9</th>\n",
       "      <td>BTHSMF000K04DC</td>\n",
       "      <td>12</td>\n",
       "    </tr>\n",
       "    <tr>\n",
       "      <th>10</th>\n",
       "      <td>BTHSMF0FFK04DC</td>\n",
       "      <td>13</td>\n",
       "    </tr>\n",
       "    <tr>\n",
       "      <th>11</th>\n",
       "      <td>C3JW07100K02DC</td>\n",
       "      <td>14</td>\n",
       "    </tr>\n",
       "    <tr>\n",
       "      <th>12</th>\n",
       "      <td>C3JW09130K02DC</td>\n",
       "      <td>15</td>\n",
       "    </tr>\n",
       "    <tr>\n",
       "      <th>13</th>\n",
       "      <td>C4PC00000P08DC</td>\n",
       "      <td>16</td>\n",
       "    </tr>\n",
       "    <tr>\n",
       "      <th>14</th>\n",
       "      <td>C9PC00000P18DC</td>\n",
       "      <td>17</td>\n",
       "    </tr>\n",
       "    <tr>\n",
       "      <th>15</th>\n",
       "      <td>C9PCKFC00P14DC</td>\n",
       "      <td>18</td>\n",
       "    </tr>\n",
       "    <tr>\n",
       "      <th>16</th>\n",
       "      <td>C9PCKFC00P18DC</td>\n",
       "      <td>19</td>\n",
       "    </tr>\n",
       "    <tr>\n",
       "      <th>17</th>\n",
       "      <td>C9PCWBM20P18DC</td>\n",
       "      <td>20</td>\n",
       "    </tr>\n",
       "    <tr>\n",
       "      <th>18</th>\n",
       "      <td>CBRSH2332P10DC</td>\n",
       "      <td>21</td>\n",
       "    </tr>\n",
       "    <tr>\n",
       "      <th>19</th>\n",
       "      <td>CCHICU000K02DC</td>\n",
       "      <td>22</td>\n",
       "    </tr>\n",
       "    <tr>\n",
       "      <th>20</th>\n",
       "      <td>CCHICU000K06DC</td>\n",
       "      <td>23</td>\n",
       "    </tr>\n",
       "    <tr>\n",
       "      <th>21</th>\n",
       "      <td>CDS008110K02DC</td>\n",
       "      <td>24</td>\n",
       "    </tr>\n",
       "    <tr>\n",
       "      <th>22</th>\n",
       "      <td>CDS010140K02DC</td>\n",
       "      <td>25</td>\n",
       "    </tr>\n",
       "    <tr>\n",
       "      <th>23</th>\n",
       "      <td>CDS010140P20DC</td>\n",
       "      <td>26</td>\n",
       "    </tr>\n",
       "    <tr>\n",
       "      <th>24</th>\n",
       "      <td>CDS0CU000K02DC</td>\n",
       "      <td>27</td>\n",
       "    </tr>\n",
       "    <tr>\n",
       "      <th>25</th>\n",
       "      <td>CDS0F0000RETDC</td>\n",
       "      <td>28</td>\n",
       "    </tr>\n",
       "    <tr>\n",
       "      <th>26</th>\n",
       "      <td>CKE0F0000K02DC</td>\n",
       "      <td>29</td>\n",
       "    </tr>\n",
       "    <tr>\n",
       "      <th>27</th>\n",
       "      <td>CKE0F0000RETDC</td>\n",
       "      <td>30</td>\n",
       "    </tr>\n",
       "    <tr>\n",
       "      <th>28</th>\n",
       "      <td>CLG022270K06DC</td>\n",
       "      <td>31</td>\n",
       "    </tr>\n",
       "    <tr>\n",
       "      <th>29</th>\n",
       "      <td>CLG022270P10DC</td>\n",
       "      <td>32</td>\n",
       "    </tr>\n",
       "    <tr>\n",
       "      <th>...</th>\n",
       "      <td>...</td>\n",
       "      <td>...</td>\n",
       "    </tr>\n",
       "    <tr>\n",
       "      <th>79</th>\n",
       "      <td>MPORWM1BPP02DC</td>\n",
       "      <td>82</td>\n",
       "    </tr>\n",
       "    <tr>\n",
       "      <th>80</th>\n",
       "      <td>MPORWM1HSP02DC</td>\n",
       "      <td>83</td>\n",
       "    </tr>\n",
       "    <tr>\n",
       "      <th>81</th>\n",
       "      <td>MPORWM1HSRETDC</td>\n",
       "      <td>84</td>\n",
       "    </tr>\n",
       "    <tr>\n",
       "      <th>82</th>\n",
       "      <td>MPORWM1HYP02DC</td>\n",
       "      <td>85</td>\n",
       "    </tr>\n",
       "    <tr>\n",
       "      <th>83</th>\n",
       "      <td>MPORWM1HYRETDC</td>\n",
       "      <td>86</td>\n",
       "    </tr>\n",
       "    <tr>\n",
       "      <th>84</th>\n",
       "      <td>MPORWM1PKP02DC</td>\n",
       "      <td>87</td>\n",
       "    </tr>\n",
       "    <tr>\n",
       "      <th>85</th>\n",
       "      <td>MPORWM1PKRETDC</td>\n",
       "      <td>88</td>\n",
       "    </tr>\n",
       "    <tr>\n",
       "      <th>86</th>\n",
       "      <td>MPORWM4BPRETDC</td>\n",
       "      <td>89</td>\n",
       "    </tr>\n",
       "    <tr>\n",
       "      <th>87</th>\n",
       "      <td>MPORWMHM1P02DC</td>\n",
       "      <td>90</td>\n",
       "    </tr>\n",
       "    <tr>\n",
       "      <th>88</th>\n",
       "      <td>MPORWNDORP02DC</td>\n",
       "      <td>91</td>\n",
       "    </tr>\n",
       "    <tr>\n",
       "      <th>89</th>\n",
       "      <td>MPORWNDORP04DC</td>\n",
       "      <td>92</td>\n",
       "    </tr>\n",
       "    <tr>\n",
       "      <th>90</th>\n",
       "      <td>P3JW07090K02DC</td>\n",
       "      <td>93</td>\n",
       "    </tr>\n",
       "    <tr>\n",
       "      <th>91</th>\n",
       "      <td>P3JW08100K02DC</td>\n",
       "      <td>94</td>\n",
       "    </tr>\n",
       "    <tr>\n",
       "      <th>92</th>\n",
       "      <td>P3JWF0000RETDC</td>\n",
       "      <td>95</td>\n",
       "    </tr>\n",
       "    <tr>\n",
       "      <th>93</th>\n",
       "      <td>PDMTF0000K02DC</td>\n",
       "      <td>96</td>\n",
       "    </tr>\n",
       "    <tr>\n",
       "      <th>94</th>\n",
       "      <td>PDMTF0000RETDC</td>\n",
       "      <td>97</td>\n",
       "    </tr>\n",
       "    <tr>\n",
       "      <th>95</th>\n",
       "      <td>PDMTMF000150DC</td>\n",
       "      <td>98</td>\n",
       "    </tr>\n",
       "    <tr>\n",
       "      <th>96</th>\n",
       "      <td>PMJWF0000K02DC</td>\n",
       "      <td>99</td>\n",
       "    </tr>\n",
       "    <tr>\n",
       "      <th>97</th>\n",
       "      <td>PMJWMF000150DC</td>\n",
       "      <td>100</td>\n",
       "    </tr>\n",
       "    <tr>\n",
       "      <th>98</th>\n",
       "      <td>WBL1BP000P10DC</td>\n",
       "      <td>101</td>\n",
       "    </tr>\n",
       "    <tr>\n",
       "      <th>99</th>\n",
       "      <td>WBL1SPG41P01DC</td>\n",
       "      <td>102</td>\n",
       "    </tr>\n",
       "    <tr>\n",
       "      <th>100</th>\n",
       "      <td>WBL1SPHFGP01DC</td>\n",
       "      <td>103</td>\n",
       "    </tr>\n",
       "    <tr>\n",
       "      <th>101</th>\n",
       "      <td>WBM1BP000P10DC</td>\n",
       "      <td>104</td>\n",
       "    </tr>\n",
       "    <tr>\n",
       "      <th>102</th>\n",
       "      <td>WBM1SP000P01DC</td>\n",
       "      <td>105</td>\n",
       "    </tr>\n",
       "    <tr>\n",
       "      <th>103</th>\n",
       "      <td>WBM2BP000P10DC</td>\n",
       "      <td>106</td>\n",
       "    </tr>\n",
       "    <tr>\n",
       "      <th>104</th>\n",
       "      <td>WBM2SP000P01DC</td>\n",
       "      <td>107</td>\n",
       "    </tr>\n",
       "    <tr>\n",
       "      <th>105</th>\n",
       "      <td>WBM2SPGCHP01DC</td>\n",
       "      <td>108</td>\n",
       "    </tr>\n",
       "    <tr>\n",
       "      <th>106</th>\n",
       "      <td>WBS2BP000P10DC</td>\n",
       "      <td>109</td>\n",
       "    </tr>\n",
       "    <tr>\n",
       "      <th>107</th>\n",
       "      <td>WNC03P000P03DC</td>\n",
       "      <td>110</td>\n",
       "    </tr>\n",
       "    <tr>\n",
       "      <th>108</th>\n",
       "      <td>WNC03P0S2P03DC</td>\n",
       "      <td>111</td>\n",
       "    </tr>\n",
       "  </tbody>\n",
       "</table>\n",
       "<p>109 rows × 2 columns</p>\n",
       "</div>"
      ],
      "text/plain": [
       "         item code   Shelf_Life\n",
       "0    BBR0F0000K02DC           3\n",
       "1    BBRSF0000K02DC           4\n",
       "2    BBRSF0000RETDC           5\n",
       "3    BBRSMF000K04DC           6\n",
       "4    BFL0F0000K02DC           7\n",
       "5    BLG0F0000K02DC           8\n",
       "6    BLGSF0000K02DC           9\n",
       "7    BTH007585K04DC          10\n",
       "8    BTHSF0000K02DC          11\n",
       "9    BTHSMF000K04DC          12\n",
       "10   BTHSMF0FFK04DC          13\n",
       "11   C3JW07100K02DC          14\n",
       "12   C3JW09130K02DC          15\n",
       "13   C4PC00000P08DC          16\n",
       "14   C9PC00000P18DC          17\n",
       "15   C9PCKFC00P14DC          18\n",
       "16   C9PCKFC00P18DC          19\n",
       "17   C9PCWBM20P18DC          20\n",
       "18   CBRSH2332P10DC          21\n",
       "19   CCHICU000K02DC          22\n",
       "20   CCHICU000K06DC          23\n",
       "21   CDS008110K02DC          24\n",
       "22   CDS010140K02DC          25\n",
       "23   CDS010140P20DC          26\n",
       "24   CDS0CU000K02DC          27\n",
       "25   CDS0F0000RETDC          28\n",
       "26   CKE0F0000K02DC          29\n",
       "27   CKE0F0000RETDC          30\n",
       "28   CLG022270K06DC          31\n",
       "29   CLG022270P10DC          32\n",
       "..              ...         ...\n",
       "79   MPORWM1BPP02DC          82\n",
       "80   MPORWM1HSP02DC          83\n",
       "81   MPORWM1HSRETDC          84\n",
       "82   MPORWM1HYP02DC          85\n",
       "83   MPORWM1HYRETDC          86\n",
       "84   MPORWM1PKP02DC          87\n",
       "85   MPORWM1PKRETDC          88\n",
       "86   MPORWM4BPRETDC          89\n",
       "87   MPORWMHM1P02DC          90\n",
       "88   MPORWNDORP02DC          91\n",
       "89   MPORWNDORP04DC          92\n",
       "90   P3JW07090K02DC          93\n",
       "91   P3JW08100K02DC          94\n",
       "92   P3JWF0000RETDC          95\n",
       "93   PDMTF0000K02DC          96\n",
       "94   PDMTF0000RETDC          97\n",
       "95   PDMTMF000150DC          98\n",
       "96   PMJWF0000K02DC          99\n",
       "97   PMJWMF000150DC         100\n",
       "98   WBL1BP000P10DC         101\n",
       "99   WBL1SPG41P01DC         102\n",
       "100  WBL1SPHFGP01DC         103\n",
       "101  WBM1BP000P10DC         104\n",
       "102  WBM1SP000P01DC         105\n",
       "103  WBM2BP000P10DC         106\n",
       "104  WBM2SP000P01DC         107\n",
       "105  WBM2SPGCHP01DC         108\n",
       "106  WBS2BP000P10DC         109\n",
       "107  WNC03P000P03DC         110\n",
       "108  WNC03P0S2P03DC         111\n",
       "\n",
       "[109 rows x 2 columns]"
      ]
     },
     "execution_count": 11,
     "metadata": {},
     "output_type": "execute_result"
    }
   ],
   "source": [
    "shelf_life"
   ]
  },
  {
   "cell_type": "code",
   "execution_count": 12,
   "metadata": {
    "collapsed": false
   },
   "outputs": [
    {
     "name": "stderr",
     "output_type": "stream",
     "text": [
      "/usr/local/lib/python3.5/dist-packages/pandas/util/_decorators.py:118: FutureWarning: The `sheetname` keyword is deprecated, use `sheet_name` instead\n",
      "  return func(*args, **kwargs)\n"
     ]
    }
   ],
   "source": [
    "y = pd.read_excel('Model_Input.xlsm', sheetname=\"Yield\")\n",
    "y = y.dropna(axis='columns', how='all')"
   ]
  },
  {
   "cell_type": "code",
   "execution_count": 13,
   "metadata": {
    "collapsed": false
   },
   "outputs": [
    {
     "data": {
      "text/plain": [
       "109"
      ]
     },
     "execution_count": 13,
     "metadata": {},
     "output_type": "execute_result"
    }
   ],
   "source": [
    "len(y['Product'].unique())"
   ]
  },
  {
   "cell_type": "code",
   "execution_count": 61,
   "metadata": {
    "collapsed": true
   },
   "outputs": [],
   "source": [
    "d = pd.DataFrame()"
   ]
  },
  {
   "cell_type": "code",
   "execution_count": 62,
   "metadata": {
    "collapsed": true
   },
   "outputs": [],
   "source": [
    "d['Fresh'] = sorted(fre)"
   ]
  },
  {
   "cell_type": "code",
   "execution_count": 63,
   "metadata": {
    "collapsed": true
   },
   "outputs": [],
   "source": [
    "d1 = pd.DataFrame()\n",
    "d1['Frozen'] = sorted(fro)"
   ]
  },
  {
   "cell_type": "code",
   "execution_count": 64,
   "metadata": {
    "collapsed": true
   },
   "outputs": [],
   "source": [
    "d2 =pd.concat([d,d1], ignore_index=True, axis=1)"
   ]
  },
  {
   "cell_type": "code",
   "execution_count": 65,
   "metadata": {
    "collapsed": true
   },
   "outputs": [],
   "source": [
    "d2.to_csv('products.csv')"
   ]
  },
  {
   "cell_type": "code",
   "execution_count": 102,
   "metadata": {
    "collapsed": false
   },
   "outputs": [
    {
     "data": {
      "text/plain": [
       "[1, 25, 49, 73, 97, 121, 145, 169, 193, 217, 241, 265, 289, 313, 337]"
      ]
     },
     "execution_count": 102,
     "metadata": {},
     "output_type": "execute_result"
    }
   ],
   "source": [
    "wa = [1+n*24 for n in range(0,15)]\n",
    "wa"
   ]
  },
  {
   "cell_type": "code",
   "execution_count": 105,
   "metadata": {
    "collapsed": false
   },
   "outputs": [
    {
     "data": {
      "text/plain": [
       "[9, 33, 57, 81, 105, 129, 153, 177, 201, 225, 249, 273, 297, 321, 345]"
      ]
     },
     "execution_count": 105,
     "metadata": {},
     "output_type": "execute_result"
    }
   ],
   "source": [
    "wb = [9+n*24 for n in range(0,15)]\n",
    "wb"
   ]
  },
  {
   "cell_type": "code",
   "execution_count": 1,
   "metadata": {
    "collapsed": true
   },
   "outputs": [],
   "source": [
    "import pandas as pd"
   ]
  },
  {
   "cell_type": "code",
   "execution_count": 2,
   "metadata": {
    "collapsed": false
   },
   "outputs": [
    {
     "data": {
      "text/html": [
       "<div>\n",
       "<style scoped>\n",
       "    .dataframe tbody tr th:only-of-type {\n",
       "        vertical-align: middle;\n",
       "    }\n",
       "\n",
       "    .dataframe tbody tr th {\n",
       "        vertical-align: top;\n",
       "    }\n",
       "\n",
       "    .dataframe thead th {\n",
       "        text-align: right;\n",
       "    }\n",
       "</style>\n",
       "<table border=\"1\" class=\"dataframe\">\n",
       "  <thead>\n",
       "    <tr style=\"text-align: right;\">\n",
       "      <th></th>\n",
       "      <th>days</th>\n",
       "      <th>Day_1</th>\n",
       "      <th>Day_2</th>\n",
       "      <th>Day_3</th>\n",
       "      <th>Day_4</th>\n",
       "    </tr>\n",
       "  </thead>\n",
       "  <tbody>\n",
       "    <tr>\n",
       "      <th>0</th>\n",
       "      <td>Ribs_1</td>\n",
       "      <td>1463</td>\n",
       "      <td>777</td>\n",
       "      <td>1629</td>\n",
       "      <td>1447</td>\n",
       "    </tr>\n",
       "    <tr>\n",
       "      <th>1</th>\n",
       "      <td>Keels_1</td>\n",
       "      <td>1397</td>\n",
       "      <td>1569</td>\n",
       "      <td>1106</td>\n",
       "      <td>1700</td>\n",
       "    </tr>\n",
       "    <tr>\n",
       "      <th>2</th>\n",
       "      <td>Legs_1</td>\n",
       "      <td>1322</td>\n",
       "      <td>1550</td>\n",
       "      <td>1184</td>\n",
       "      <td>1161</td>\n",
       "    </tr>\n",
       "    <tr>\n",
       "      <th>3</th>\n",
       "      <td>Thigh_1</td>\n",
       "      <td>1269</td>\n",
       "      <td>1525</td>\n",
       "      <td>1331</td>\n",
       "      <td>1589</td>\n",
       "    </tr>\n",
       "    <tr>\n",
       "      <th>4</th>\n",
       "      <td>Wings_1</td>\n",
       "      <td>806</td>\n",
       "      <td>1147</td>\n",
       "      <td>431</td>\n",
       "      <td>1598</td>\n",
       "    </tr>\n",
       "    <tr>\n",
       "      <th>5</th>\n",
       "      <td>Breasts_1</td>\n",
       "      <td>577</td>\n",
       "      <td>1057</td>\n",
       "      <td>404</td>\n",
       "      <td>1715</td>\n",
       "    </tr>\n",
       "    <tr>\n",
       "      <th>6</th>\n",
       "      <td>Drumsticks_1</td>\n",
       "      <td>3411</td>\n",
       "      <td>3411</td>\n",
       "      <td>3407</td>\n",
       "      <td>3411</td>\n",
       "    </tr>\n",
       "    <tr>\n",
       "      <th>7</th>\n",
       "      <td>Ribs_2</td>\n",
       "      <td>1625</td>\n",
       "      <td>133</td>\n",
       "      <td>1492</td>\n",
       "      <td>1158</td>\n",
       "    </tr>\n",
       "    <tr>\n",
       "      <th>8</th>\n",
       "      <td>Keels_2</td>\n",
       "      <td>1104</td>\n",
       "      <td>1467</td>\n",
       "      <td>1151</td>\n",
       "      <td>1857</td>\n",
       "    </tr>\n",
       "    <tr>\n",
       "      <th>9</th>\n",
       "      <td>Legs_2</td>\n",
       "      <td>1138</td>\n",
       "      <td>1628</td>\n",
       "      <td>1375</td>\n",
       "      <td>1792</td>\n",
       "    </tr>\n",
       "    <tr>\n",
       "      <th>10</th>\n",
       "      <td>Thigh_2</td>\n",
       "      <td>1426</td>\n",
       "      <td>1102</td>\n",
       "      <td>1574</td>\n",
       "      <td>1162</td>\n",
       "    </tr>\n",
       "    <tr>\n",
       "      <th>11</th>\n",
       "      <td>Wings_2</td>\n",
       "      <td>1106</td>\n",
       "      <td>1813</td>\n",
       "      <td>1122</td>\n",
       "      <td>1598</td>\n",
       "    </tr>\n",
       "    <tr>\n",
       "      <th>12</th>\n",
       "      <td>Breasts_2</td>\n",
       "      <td>729</td>\n",
       "      <td>1076</td>\n",
       "      <td>265</td>\n",
       "      <td>1222</td>\n",
       "    </tr>\n",
       "    <tr>\n",
       "      <th>13</th>\n",
       "      <td>Drumsticks_2</td>\n",
       "      <td>1196</td>\n",
       "      <td>1164</td>\n",
       "      <td>1451</td>\n",
       "      <td>1483</td>\n",
       "    </tr>\n",
       "  </tbody>\n",
       "</table>\n",
       "</div>"
      ],
      "text/plain": [
       "            days  Day_1  Day_2  Day_3  Day_4\n",
       "0         Ribs_1   1463    777   1629   1447\n",
       "1        Keels_1   1397   1569   1106   1700\n",
       "2         Legs_1   1322   1550   1184   1161\n",
       "3        Thigh_1   1269   1525   1331   1589\n",
       "4        Wings_1    806   1147    431   1598\n",
       "5      Breasts_1    577   1057    404   1715\n",
       "6   Drumsticks_1   3411   3411   3407   3411\n",
       "7         Ribs_2   1625    133   1492   1158\n",
       "8        Keels_2   1104   1467   1151   1857\n",
       "9         Legs_2   1138   1628   1375   1792\n",
       "10       Thigh_2   1426   1102   1574   1162\n",
       "11       Wings_2   1106   1813   1122   1598\n",
       "12     Breasts_2    729   1076    265   1222\n",
       "13  Drumsticks_2   1196   1164   1451   1483"
      ]
     },
     "execution_count": 2,
     "metadata": {},
     "output_type": "execute_result"
    }
   ],
   "source": [
    "fresh_sold = pd.read_csv('Fresh_Product_Sold.csv')\n",
    "fresh_sold"
   ]
  },
  {
   "cell_type": "code",
   "execution_count": 13,
   "metadata": {
    "collapsed": false
   },
   "outputs": [
    {
     "data": {
      "text/html": [
       "<div>\n",
       "<style scoped>\n",
       "    .dataframe tbody tr th:only-of-type {\n",
       "        vertical-align: middle;\n",
       "    }\n",
       "\n",
       "    .dataframe tbody tr th {\n",
       "        vertical-align: top;\n",
       "    }\n",
       "\n",
       "    .dataframe thead th {\n",
       "        text-align: right;\n",
       "    }\n",
       "</style>\n",
       "<table border=\"1\" class=\"dataframe\">\n",
       "  <thead>\n",
       "    <tr style=\"text-align: right;\">\n",
       "      <th></th>\n",
       "      <th>Day_1</th>\n",
       "      <th>Day_2</th>\n",
       "      <th>Day_3</th>\n",
       "      <th>Day_4</th>\n",
       "      <th>Products</th>\n",
       "      <th>Customer</th>\n",
       "      <th>keyfigure</th>\n",
       "    </tr>\n",
       "  </thead>\n",
       "  <tbody>\n",
       "    <tr>\n",
       "      <th>0</th>\n",
       "      <td>1463</td>\n",
       "      <td>777</td>\n",
       "      <td>1629</td>\n",
       "      <td>1447</td>\n",
       "      <td>Ribs</td>\n",
       "      <td>1</td>\n",
       "      <td>fresh_sold</td>\n",
       "    </tr>\n",
       "    <tr>\n",
       "      <th>1</th>\n",
       "      <td>1397</td>\n",
       "      <td>1569</td>\n",
       "      <td>1106</td>\n",
       "      <td>1700</td>\n",
       "      <td>Keels</td>\n",
       "      <td>1</td>\n",
       "      <td>fresh_sold</td>\n",
       "    </tr>\n",
       "    <tr>\n",
       "      <th>2</th>\n",
       "      <td>1322</td>\n",
       "      <td>1550</td>\n",
       "      <td>1184</td>\n",
       "      <td>1161</td>\n",
       "      <td>Legs</td>\n",
       "      <td>1</td>\n",
       "      <td>fresh_sold</td>\n",
       "    </tr>\n",
       "    <tr>\n",
       "      <th>3</th>\n",
       "      <td>1269</td>\n",
       "      <td>1525</td>\n",
       "      <td>1331</td>\n",
       "      <td>1589</td>\n",
       "      <td>Thigh</td>\n",
       "      <td>1</td>\n",
       "      <td>fresh_sold</td>\n",
       "    </tr>\n",
       "    <tr>\n",
       "      <th>4</th>\n",
       "      <td>806</td>\n",
       "      <td>1147</td>\n",
       "      <td>431</td>\n",
       "      <td>1598</td>\n",
       "      <td>Wings</td>\n",
       "      <td>1</td>\n",
       "      <td>fresh_sold</td>\n",
       "    </tr>\n",
       "    <tr>\n",
       "      <th>5</th>\n",
       "      <td>577</td>\n",
       "      <td>1057</td>\n",
       "      <td>404</td>\n",
       "      <td>1715</td>\n",
       "      <td>Breasts</td>\n",
       "      <td>1</td>\n",
       "      <td>fresh_sold</td>\n",
       "    </tr>\n",
       "    <tr>\n",
       "      <th>6</th>\n",
       "      <td>3411</td>\n",
       "      <td>3411</td>\n",
       "      <td>3407</td>\n",
       "      <td>3411</td>\n",
       "      <td>Drumsticks</td>\n",
       "      <td>1</td>\n",
       "      <td>fresh_sold</td>\n",
       "    </tr>\n",
       "    <tr>\n",
       "      <th>7</th>\n",
       "      <td>1625</td>\n",
       "      <td>133</td>\n",
       "      <td>1492</td>\n",
       "      <td>1158</td>\n",
       "      <td>Ribs</td>\n",
       "      <td>2</td>\n",
       "      <td>fresh_sold</td>\n",
       "    </tr>\n",
       "    <tr>\n",
       "      <th>8</th>\n",
       "      <td>1104</td>\n",
       "      <td>1467</td>\n",
       "      <td>1151</td>\n",
       "      <td>1857</td>\n",
       "      <td>Keels</td>\n",
       "      <td>2</td>\n",
       "      <td>fresh_sold</td>\n",
       "    </tr>\n",
       "    <tr>\n",
       "      <th>9</th>\n",
       "      <td>1138</td>\n",
       "      <td>1628</td>\n",
       "      <td>1375</td>\n",
       "      <td>1792</td>\n",
       "      <td>Legs</td>\n",
       "      <td>2</td>\n",
       "      <td>fresh_sold</td>\n",
       "    </tr>\n",
       "    <tr>\n",
       "      <th>10</th>\n",
       "      <td>1426</td>\n",
       "      <td>1102</td>\n",
       "      <td>1574</td>\n",
       "      <td>1162</td>\n",
       "      <td>Thigh</td>\n",
       "      <td>2</td>\n",
       "      <td>fresh_sold</td>\n",
       "    </tr>\n",
       "    <tr>\n",
       "      <th>11</th>\n",
       "      <td>1106</td>\n",
       "      <td>1813</td>\n",
       "      <td>1122</td>\n",
       "      <td>1598</td>\n",
       "      <td>Wings</td>\n",
       "      <td>2</td>\n",
       "      <td>fresh_sold</td>\n",
       "    </tr>\n",
       "    <tr>\n",
       "      <th>12</th>\n",
       "      <td>729</td>\n",
       "      <td>1076</td>\n",
       "      <td>265</td>\n",
       "      <td>1222</td>\n",
       "      <td>Breasts</td>\n",
       "      <td>2</td>\n",
       "      <td>fresh_sold</td>\n",
       "    </tr>\n",
       "    <tr>\n",
       "      <th>13</th>\n",
       "      <td>1196</td>\n",
       "      <td>1164</td>\n",
       "      <td>1451</td>\n",
       "      <td>1483</td>\n",
       "      <td>Drumsticks</td>\n",
       "      <td>2</td>\n",
       "      <td>fresh_sold</td>\n",
       "    </tr>\n",
       "  </tbody>\n",
       "</table>\n",
       "</div>"
      ],
      "text/plain": [
       "    Day_1  Day_2  Day_3  Day_4    Products Customer   keyfigure\n",
       "0    1463    777   1629   1447        Ribs        1  fresh_sold\n",
       "1    1397   1569   1106   1700       Keels        1  fresh_sold\n",
       "2    1322   1550   1184   1161        Legs        1  fresh_sold\n",
       "3    1269   1525   1331   1589       Thigh        1  fresh_sold\n",
       "4     806   1147    431   1598       Wings        1  fresh_sold\n",
       "5     577   1057    404   1715     Breasts        1  fresh_sold\n",
       "6    3411   3411   3407   3411  Drumsticks        1  fresh_sold\n",
       "7    1625    133   1492   1158        Ribs        2  fresh_sold\n",
       "8    1104   1467   1151   1857       Keels        2  fresh_sold\n",
       "9    1138   1628   1375   1792        Legs        2  fresh_sold\n",
       "10   1426   1102   1574   1162       Thigh        2  fresh_sold\n",
       "11   1106   1813   1122   1598       Wings        2  fresh_sold\n",
       "12    729   1076    265   1222     Breasts        2  fresh_sold\n",
       "13   1196   1164   1451   1483  Drumsticks        2  fresh_sold"
      ]
     },
     "execution_count": 13,
     "metadata": {},
     "output_type": "execute_result"
    }
   ],
   "source": [
    "fresh_sold = pd.read_csv('Fresh_Product_Sold.csv')\n",
    "fresh_sold[['Products','Customer']] = pd.DataFrame(fresh_sold.days.str.split('_',1).tolist(),\n",
    "                                   columns = ['Products','Customer'])\n",
    "del fresh_sold['days']\n",
    "fresh_sold['keyfigure'] = \"fresh_sold\"\n",
    "fresh_sold"
   ]
  },
  {
   "cell_type": "code",
   "execution_count": 4,
   "metadata": {
    "collapsed": true
   },
   "outputs": [],
   "source": [
    "Fresh_sold = pd.concat([fresh_sold, fresh_sold1], axis=1)"
   ]
  },
  {
   "cell_type": "code",
   "execution_count": 5,
   "metadata": {
    "collapsed": false
   },
   "outputs": [
    {
     "data": {
      "text/html": [
       "<div>\n",
       "<style scoped>\n",
       "    .dataframe tbody tr th:only-of-type {\n",
       "        vertical-align: middle;\n",
       "    }\n",
       "\n",
       "    .dataframe tbody tr th {\n",
       "        vertical-align: top;\n",
       "    }\n",
       "\n",
       "    .dataframe thead th {\n",
       "        text-align: right;\n",
       "    }\n",
       "</style>\n",
       "<table border=\"1\" class=\"dataframe\">\n",
       "  <thead>\n",
       "    <tr style=\"text-align: right;\">\n",
       "      <th></th>\n",
       "      <th>days</th>\n",
       "      <th>Day_1</th>\n",
       "      <th>Day_2</th>\n",
       "      <th>Day_3</th>\n",
       "      <th>Day_4</th>\n",
       "      <th>Products</th>\n",
       "      <th>Customer</th>\n",
       "    </tr>\n",
       "  </thead>\n",
       "  <tbody>\n",
       "    <tr>\n",
       "      <th>0</th>\n",
       "      <td>Ribs_1</td>\n",
       "      <td>1463</td>\n",
       "      <td>777</td>\n",
       "      <td>1629</td>\n",
       "      <td>1447</td>\n",
       "      <td>Ribs</td>\n",
       "      <td>1</td>\n",
       "    </tr>\n",
       "    <tr>\n",
       "      <th>1</th>\n",
       "      <td>Keels_1</td>\n",
       "      <td>1397</td>\n",
       "      <td>1569</td>\n",
       "      <td>1106</td>\n",
       "      <td>1700</td>\n",
       "      <td>Keels</td>\n",
       "      <td>1</td>\n",
       "    </tr>\n",
       "    <tr>\n",
       "      <th>2</th>\n",
       "      <td>Legs_1</td>\n",
       "      <td>1322</td>\n",
       "      <td>1550</td>\n",
       "      <td>1184</td>\n",
       "      <td>1161</td>\n",
       "      <td>Legs</td>\n",
       "      <td>1</td>\n",
       "    </tr>\n",
       "    <tr>\n",
       "      <th>3</th>\n",
       "      <td>Thigh_1</td>\n",
       "      <td>1269</td>\n",
       "      <td>1525</td>\n",
       "      <td>1331</td>\n",
       "      <td>1589</td>\n",
       "      <td>Thigh</td>\n",
       "      <td>1</td>\n",
       "    </tr>\n",
       "    <tr>\n",
       "      <th>4</th>\n",
       "      <td>Wings_1</td>\n",
       "      <td>806</td>\n",
       "      <td>1147</td>\n",
       "      <td>431</td>\n",
       "      <td>1598</td>\n",
       "      <td>Wings</td>\n",
       "      <td>1</td>\n",
       "    </tr>\n",
       "    <tr>\n",
       "      <th>5</th>\n",
       "      <td>Breasts_1</td>\n",
       "      <td>577</td>\n",
       "      <td>1057</td>\n",
       "      <td>404</td>\n",
       "      <td>1715</td>\n",
       "      <td>Breasts</td>\n",
       "      <td>1</td>\n",
       "    </tr>\n",
       "    <tr>\n",
       "      <th>6</th>\n",
       "      <td>Drumsticks_1</td>\n",
       "      <td>3411</td>\n",
       "      <td>3411</td>\n",
       "      <td>3407</td>\n",
       "      <td>3411</td>\n",
       "      <td>Drumsticks</td>\n",
       "      <td>1</td>\n",
       "    </tr>\n",
       "    <tr>\n",
       "      <th>7</th>\n",
       "      <td>Ribs_2</td>\n",
       "      <td>1625</td>\n",
       "      <td>133</td>\n",
       "      <td>1492</td>\n",
       "      <td>1158</td>\n",
       "      <td>Ribs</td>\n",
       "      <td>2</td>\n",
       "    </tr>\n",
       "    <tr>\n",
       "      <th>8</th>\n",
       "      <td>Keels_2</td>\n",
       "      <td>1104</td>\n",
       "      <td>1467</td>\n",
       "      <td>1151</td>\n",
       "      <td>1857</td>\n",
       "      <td>Keels</td>\n",
       "      <td>2</td>\n",
       "    </tr>\n",
       "    <tr>\n",
       "      <th>9</th>\n",
       "      <td>Legs_2</td>\n",
       "      <td>1138</td>\n",
       "      <td>1628</td>\n",
       "      <td>1375</td>\n",
       "      <td>1792</td>\n",
       "      <td>Legs</td>\n",
       "      <td>2</td>\n",
       "    </tr>\n",
       "    <tr>\n",
       "      <th>10</th>\n",
       "      <td>Thigh_2</td>\n",
       "      <td>1426</td>\n",
       "      <td>1102</td>\n",
       "      <td>1574</td>\n",
       "      <td>1162</td>\n",
       "      <td>Thigh</td>\n",
       "      <td>2</td>\n",
       "    </tr>\n",
       "    <tr>\n",
       "      <th>11</th>\n",
       "      <td>Wings_2</td>\n",
       "      <td>1106</td>\n",
       "      <td>1813</td>\n",
       "      <td>1122</td>\n",
       "      <td>1598</td>\n",
       "      <td>Wings</td>\n",
       "      <td>2</td>\n",
       "    </tr>\n",
       "    <tr>\n",
       "      <th>12</th>\n",
       "      <td>Breasts_2</td>\n",
       "      <td>729</td>\n",
       "      <td>1076</td>\n",
       "      <td>265</td>\n",
       "      <td>1222</td>\n",
       "      <td>Breasts</td>\n",
       "      <td>2</td>\n",
       "    </tr>\n",
       "    <tr>\n",
       "      <th>13</th>\n",
       "      <td>Drumsticks_2</td>\n",
       "      <td>1196</td>\n",
       "      <td>1164</td>\n",
       "      <td>1451</td>\n",
       "      <td>1483</td>\n",
       "      <td>Drumsticks</td>\n",
       "      <td>2</td>\n",
       "    </tr>\n",
       "  </tbody>\n",
       "</table>\n",
       "</div>"
      ],
      "text/plain": [
       "            days  Day_1  Day_2  Day_3  Day_4    Products Customer\n",
       "0         Ribs_1   1463    777   1629   1447        Ribs        1\n",
       "1        Keels_1   1397   1569   1106   1700       Keels        1\n",
       "2         Legs_1   1322   1550   1184   1161        Legs        1\n",
       "3        Thigh_1   1269   1525   1331   1589       Thigh        1\n",
       "4        Wings_1    806   1147    431   1598       Wings        1\n",
       "5      Breasts_1    577   1057    404   1715     Breasts        1\n",
       "6   Drumsticks_1   3411   3411   3407   3411  Drumsticks        1\n",
       "7         Ribs_2   1625    133   1492   1158        Ribs        2\n",
       "8        Keels_2   1104   1467   1151   1857       Keels        2\n",
       "9         Legs_2   1138   1628   1375   1792        Legs        2\n",
       "10       Thigh_2   1426   1102   1574   1162       Thigh        2\n",
       "11       Wings_2   1106   1813   1122   1598       Wings        2\n",
       "12     Breasts_2    729   1076    265   1222     Breasts        2\n",
       "13  Drumsticks_2   1196   1164   1451   1483  Drumsticks        2"
      ]
     },
     "execution_count": 5,
     "metadata": {},
     "output_type": "execute_result"
    }
   ],
   "source": [
    "Fresh_sold"
   ]
  },
  {
   "cell_type": "code",
   "execution_count": 6,
   "metadata": {
    "collapsed": true
   },
   "outputs": [],
   "source": [
    "df = Fresh_sold\n",
    "del df['days']"
   ]
  },
  {
   "cell_type": "code",
   "execution_count": 7,
   "metadata": {
    "collapsed": false
   },
   "outputs": [
    {
     "data": {
      "text/html": [
       "<div>\n",
       "<style scoped>\n",
       "    .dataframe tbody tr th:only-of-type {\n",
       "        vertical-align: middle;\n",
       "    }\n",
       "\n",
       "    .dataframe tbody tr th {\n",
       "        vertical-align: top;\n",
       "    }\n",
       "\n",
       "    .dataframe thead th {\n",
       "        text-align: right;\n",
       "    }\n",
       "</style>\n",
       "<table border=\"1\" class=\"dataframe\">\n",
       "  <thead>\n",
       "    <tr style=\"text-align: right;\">\n",
       "      <th></th>\n",
       "      <th>Day_1</th>\n",
       "      <th>Day_2</th>\n",
       "      <th>Day_3</th>\n",
       "      <th>Day_4</th>\n",
       "      <th>Products</th>\n",
       "      <th>Customer</th>\n",
       "    </tr>\n",
       "  </thead>\n",
       "  <tbody>\n",
       "    <tr>\n",
       "      <th>0</th>\n",
       "      <td>1463</td>\n",
       "      <td>777</td>\n",
       "      <td>1629</td>\n",
       "      <td>1447</td>\n",
       "      <td>Ribs</td>\n",
       "      <td>1</td>\n",
       "    </tr>\n",
       "    <tr>\n",
       "      <th>1</th>\n",
       "      <td>1397</td>\n",
       "      <td>1569</td>\n",
       "      <td>1106</td>\n",
       "      <td>1700</td>\n",
       "      <td>Keels</td>\n",
       "      <td>1</td>\n",
       "    </tr>\n",
       "    <tr>\n",
       "      <th>2</th>\n",
       "      <td>1322</td>\n",
       "      <td>1550</td>\n",
       "      <td>1184</td>\n",
       "      <td>1161</td>\n",
       "      <td>Legs</td>\n",
       "      <td>1</td>\n",
       "    </tr>\n",
       "    <tr>\n",
       "      <th>3</th>\n",
       "      <td>1269</td>\n",
       "      <td>1525</td>\n",
       "      <td>1331</td>\n",
       "      <td>1589</td>\n",
       "      <td>Thigh</td>\n",
       "      <td>1</td>\n",
       "    </tr>\n",
       "    <tr>\n",
       "      <th>4</th>\n",
       "      <td>806</td>\n",
       "      <td>1147</td>\n",
       "      <td>431</td>\n",
       "      <td>1598</td>\n",
       "      <td>Wings</td>\n",
       "      <td>1</td>\n",
       "    </tr>\n",
       "    <tr>\n",
       "      <th>5</th>\n",
       "      <td>577</td>\n",
       "      <td>1057</td>\n",
       "      <td>404</td>\n",
       "      <td>1715</td>\n",
       "      <td>Breasts</td>\n",
       "      <td>1</td>\n",
       "    </tr>\n",
       "    <tr>\n",
       "      <th>6</th>\n",
       "      <td>3411</td>\n",
       "      <td>3411</td>\n",
       "      <td>3407</td>\n",
       "      <td>3411</td>\n",
       "      <td>Drumsticks</td>\n",
       "      <td>1</td>\n",
       "    </tr>\n",
       "    <tr>\n",
       "      <th>7</th>\n",
       "      <td>1625</td>\n",
       "      <td>133</td>\n",
       "      <td>1492</td>\n",
       "      <td>1158</td>\n",
       "      <td>Ribs</td>\n",
       "      <td>2</td>\n",
       "    </tr>\n",
       "    <tr>\n",
       "      <th>8</th>\n",
       "      <td>1104</td>\n",
       "      <td>1467</td>\n",
       "      <td>1151</td>\n",
       "      <td>1857</td>\n",
       "      <td>Keels</td>\n",
       "      <td>2</td>\n",
       "    </tr>\n",
       "    <tr>\n",
       "      <th>9</th>\n",
       "      <td>1138</td>\n",
       "      <td>1628</td>\n",
       "      <td>1375</td>\n",
       "      <td>1792</td>\n",
       "      <td>Legs</td>\n",
       "      <td>2</td>\n",
       "    </tr>\n",
       "    <tr>\n",
       "      <th>10</th>\n",
       "      <td>1426</td>\n",
       "      <td>1102</td>\n",
       "      <td>1574</td>\n",
       "      <td>1162</td>\n",
       "      <td>Thigh</td>\n",
       "      <td>2</td>\n",
       "    </tr>\n",
       "    <tr>\n",
       "      <th>11</th>\n",
       "      <td>1106</td>\n",
       "      <td>1813</td>\n",
       "      <td>1122</td>\n",
       "      <td>1598</td>\n",
       "      <td>Wings</td>\n",
       "      <td>2</td>\n",
       "    </tr>\n",
       "    <tr>\n",
       "      <th>12</th>\n",
       "      <td>729</td>\n",
       "      <td>1076</td>\n",
       "      <td>265</td>\n",
       "      <td>1222</td>\n",
       "      <td>Breasts</td>\n",
       "      <td>2</td>\n",
       "    </tr>\n",
       "    <tr>\n",
       "      <th>13</th>\n",
       "      <td>1196</td>\n",
       "      <td>1164</td>\n",
       "      <td>1451</td>\n",
       "      <td>1483</td>\n",
       "      <td>Drumsticks</td>\n",
       "      <td>2</td>\n",
       "    </tr>\n",
       "  </tbody>\n",
       "</table>\n",
       "</div>"
      ],
      "text/plain": [
       "    Day_1  Day_2  Day_3  Day_4    Products Customer\n",
       "0    1463    777   1629   1447        Ribs        1\n",
       "1    1397   1569   1106   1700       Keels        1\n",
       "2    1322   1550   1184   1161        Legs        1\n",
       "3    1269   1525   1331   1589       Thigh        1\n",
       "4     806   1147    431   1598       Wings        1\n",
       "5     577   1057    404   1715     Breasts        1\n",
       "6    3411   3411   3407   3411  Drumsticks        1\n",
       "7    1625    133   1492   1158        Ribs        2\n",
       "8    1104   1467   1151   1857       Keels        2\n",
       "9    1138   1628   1375   1792        Legs        2\n",
       "10   1426   1102   1574   1162       Thigh        2\n",
       "11   1106   1813   1122   1598       Wings        2\n",
       "12    729   1076    265   1222     Breasts        2\n",
       "13   1196   1164   1451   1483  Drumsticks        2"
      ]
     },
     "execution_count": 7,
     "metadata": {},
     "output_type": "execute_result"
    }
   ],
   "source": [
    "df"
   ]
  },
  {
   "cell_type": "code",
   "execution_count": 248,
   "metadata": {
    "collapsed": true
   },
   "outputs": [],
   "source": [
    "df_1 = df[(df['Customer']=='1')]"
   ]
  },
  {
   "cell_type": "code",
   "execution_count": 249,
   "metadata": {
    "collapsed": true
   },
   "outputs": [],
   "source": [
    "df_2 = df[df['Customer']=='2']"
   ]
  },
  {
   "cell_type": "code",
   "execution_count": 250,
   "metadata": {
    "collapsed": true
   },
   "outputs": [],
   "source": [
    "df_final = pd.concat([df_1.T,df_2.T],axis=1)"
   ]
  },
  {
   "cell_type": "code",
   "execution_count": 251,
   "metadata": {
    "collapsed": false
   },
   "outputs": [
    {
     "data": {
      "text/html": [
       "<div>\n",
       "<style scoped>\n",
       "    .dataframe tbody tr th:only-of-type {\n",
       "        vertical-align: middle;\n",
       "    }\n",
       "\n",
       "    .dataframe tbody tr th {\n",
       "        vertical-align: top;\n",
       "    }\n",
       "\n",
       "    .dataframe thead th {\n",
       "        text-align: right;\n",
       "    }\n",
       "</style>\n",
       "<table border=\"1\" class=\"dataframe\">\n",
       "  <thead>\n",
       "    <tr style=\"text-align: right;\">\n",
       "      <th></th>\n",
       "      <th>0</th>\n",
       "      <th>1</th>\n",
       "      <th>2</th>\n",
       "      <th>3</th>\n",
       "      <th>4</th>\n",
       "      <th>5</th>\n",
       "      <th>6</th>\n",
       "      <th>7</th>\n",
       "      <th>8</th>\n",
       "      <th>9</th>\n",
       "      <th>10</th>\n",
       "      <th>11</th>\n",
       "      <th>12</th>\n",
       "      <th>13</th>\n",
       "    </tr>\n",
       "  </thead>\n",
       "  <tbody>\n",
       "    <tr>\n",
       "      <th>Day_1</th>\n",
       "      <td>1463</td>\n",
       "      <td>1397</td>\n",
       "      <td>1322</td>\n",
       "      <td>1269</td>\n",
       "      <td>806</td>\n",
       "      <td>577</td>\n",
       "      <td>3411</td>\n",
       "      <td>1625</td>\n",
       "      <td>1104</td>\n",
       "      <td>1138</td>\n",
       "      <td>1426</td>\n",
       "      <td>1106</td>\n",
       "      <td>729</td>\n",
       "      <td>1196</td>\n",
       "    </tr>\n",
       "    <tr>\n",
       "      <th>Day_2</th>\n",
       "      <td>830</td>\n",
       "      <td>1569</td>\n",
       "      <td>1550</td>\n",
       "      <td>1525</td>\n",
       "      <td>1095</td>\n",
       "      <td>1057</td>\n",
       "      <td>3411</td>\n",
       "      <td>186</td>\n",
       "      <td>1467</td>\n",
       "      <td>1628</td>\n",
       "      <td>1102</td>\n",
       "      <td>1761</td>\n",
       "      <td>1076</td>\n",
       "      <td>1164</td>\n",
       "    </tr>\n",
       "    <tr>\n",
       "      <th>Day_3</th>\n",
       "      <td>1635</td>\n",
       "      <td>1106</td>\n",
       "      <td>1184</td>\n",
       "      <td>1331</td>\n",
       "      <td>425</td>\n",
       "      <td>404</td>\n",
       "      <td>3407</td>\n",
       "      <td>1498</td>\n",
       "      <td>1151</td>\n",
       "      <td>1375</td>\n",
       "      <td>1574</td>\n",
       "      <td>1116</td>\n",
       "      <td>265</td>\n",
       "      <td>1451</td>\n",
       "    </tr>\n",
       "    <tr>\n",
       "      <th>Day_4</th>\n",
       "      <td>1447</td>\n",
       "      <td>1700</td>\n",
       "      <td>1161</td>\n",
       "      <td>1589</td>\n",
       "      <td>1598</td>\n",
       "      <td>1715</td>\n",
       "      <td>3411</td>\n",
       "      <td>1158</td>\n",
       "      <td>1857</td>\n",
       "      <td>1792</td>\n",
       "      <td>1162</td>\n",
       "      <td>1598</td>\n",
       "      <td>1222</td>\n",
       "      <td>1483</td>\n",
       "    </tr>\n",
       "    <tr>\n",
       "      <th>Products</th>\n",
       "      <td>Ribs</td>\n",
       "      <td>Keels</td>\n",
       "      <td>Legs</td>\n",
       "      <td>Thigh</td>\n",
       "      <td>Wings</td>\n",
       "      <td>Breasts</td>\n",
       "      <td>Drumsticks</td>\n",
       "      <td>Ribs</td>\n",
       "      <td>Keels</td>\n",
       "      <td>Legs</td>\n",
       "      <td>Thigh</td>\n",
       "      <td>Wings</td>\n",
       "      <td>Breasts</td>\n",
       "      <td>Drumsticks</td>\n",
       "    </tr>\n",
       "    <tr>\n",
       "      <th>Customer</th>\n",
       "      <td>1</td>\n",
       "      <td>1</td>\n",
       "      <td>1</td>\n",
       "      <td>1</td>\n",
       "      <td>1</td>\n",
       "      <td>1</td>\n",
       "      <td>1</td>\n",
       "      <td>2</td>\n",
       "      <td>2</td>\n",
       "      <td>2</td>\n",
       "      <td>2</td>\n",
       "      <td>2</td>\n",
       "      <td>2</td>\n",
       "      <td>2</td>\n",
       "    </tr>\n",
       "  </tbody>\n",
       "</table>\n",
       "</div>"
      ],
      "text/plain": [
       "            0      1     2      3      4        5           6     7      8   \\\n",
       "Day_1     1463   1397  1322   1269    806      577        3411  1625   1104   \n",
       "Day_2      830   1569  1550   1525   1095     1057        3411   186   1467   \n",
       "Day_3     1635   1106  1184   1331    425      404        3407  1498   1151   \n",
       "Day_4     1447   1700  1161   1589   1598     1715        3411  1158   1857   \n",
       "Products  Ribs  Keels  Legs  Thigh  Wings  Breasts  Drumsticks  Ribs  Keels   \n",
       "Customer     1      1     1      1      1        1           1     2      2   \n",
       "\n",
       "            9      10     11       12          13  \n",
       "Day_1     1138   1426   1106      729        1196  \n",
       "Day_2     1628   1102   1761     1076        1164  \n",
       "Day_3     1375   1574   1116      265        1451  \n",
       "Day_4     1792   1162   1598     1222        1483  \n",
       "Products  Legs  Thigh  Wings  Breasts  Drumsticks  \n",
       "Customer     2      2      2        2           2  "
      ]
     },
     "execution_count": 251,
     "metadata": {},
     "output_type": "execute_result"
    }
   ],
   "source": [
    "df_final"
   ]
  },
  {
   "cell_type": "code",
   "execution_count": 241,
   "metadata": {
    "collapsed": false
   },
   "outputs": [
    {
     "data": {
      "text/html": [
       "<div>\n",
       "<style scoped>\n",
       "    .dataframe tbody tr th:only-of-type {\n",
       "        vertical-align: middle;\n",
       "    }\n",
       "\n",
       "    .dataframe tbody tr th {\n",
       "        vertical-align: top;\n",
       "    }\n",
       "\n",
       "    .dataframe thead th {\n",
       "        text-align: right;\n",
       "    }\n",
       "</style>\n",
       "<table border=\"1\" class=\"dataframe\">\n",
       "  <thead>\n",
       "    <tr style=\"text-align: right;\">\n",
       "      <th></th>\n",
       "      <th>Customer</th>\n",
       "      <th>Day_1</th>\n",
       "      <th>Day_2</th>\n",
       "      <th>Day_3</th>\n",
       "      <th>Day_4</th>\n",
       "      <th>Products</th>\n",
       "    </tr>\n",
       "  </thead>\n",
       "  <tbody>\n",
       "    <tr>\n",
       "      <th>0</th>\n",
       "      <td>1</td>\n",
       "      <td>1463.0</td>\n",
       "      <td>830.0</td>\n",
       "      <td>1635.0</td>\n",
       "      <td>1447.0</td>\n",
       "      <td>Ribs</td>\n",
       "    </tr>\n",
       "    <tr>\n",
       "      <th>1</th>\n",
       "      <td>1</td>\n",
       "      <td>1397.0</td>\n",
       "      <td>1569.0</td>\n",
       "      <td>1106.0</td>\n",
       "      <td>1700.0</td>\n",
       "      <td>Keels</td>\n",
       "    </tr>\n",
       "    <tr>\n",
       "      <th>2</th>\n",
       "      <td>1</td>\n",
       "      <td>1322.0</td>\n",
       "      <td>1550.0</td>\n",
       "      <td>1184.0</td>\n",
       "      <td>1161.0</td>\n",
       "      <td>Legs</td>\n",
       "    </tr>\n",
       "    <tr>\n",
       "      <th>3</th>\n",
       "      <td>1</td>\n",
       "      <td>1269.0</td>\n",
       "      <td>1525.0</td>\n",
       "      <td>1331.0</td>\n",
       "      <td>1589.0</td>\n",
       "      <td>Thigh</td>\n",
       "    </tr>\n",
       "    <tr>\n",
       "      <th>4</th>\n",
       "      <td>1</td>\n",
       "      <td>806.0</td>\n",
       "      <td>1095.0</td>\n",
       "      <td>425.0</td>\n",
       "      <td>1598.0</td>\n",
       "      <td>Wings</td>\n",
       "    </tr>\n",
       "    <tr>\n",
       "      <th>5</th>\n",
       "      <td>1</td>\n",
       "      <td>577.0</td>\n",
       "      <td>1057.0</td>\n",
       "      <td>404.0</td>\n",
       "      <td>1715.0</td>\n",
       "      <td>Breasts</td>\n",
       "    </tr>\n",
       "    <tr>\n",
       "      <th>6</th>\n",
       "      <td>1</td>\n",
       "      <td>3411.0</td>\n",
       "      <td>3411.0</td>\n",
       "      <td>3407.0</td>\n",
       "      <td>3411.0</td>\n",
       "      <td>Drumsticks</td>\n",
       "    </tr>\n",
       "    <tr>\n",
       "      <th>7</th>\n",
       "      <td>2</td>\n",
       "      <td>1625.0</td>\n",
       "      <td>186.0</td>\n",
       "      <td>1498.0</td>\n",
       "      <td>1158.0</td>\n",
       "      <td>Ribs</td>\n",
       "    </tr>\n",
       "    <tr>\n",
       "      <th>8</th>\n",
       "      <td>2</td>\n",
       "      <td>1104.0</td>\n",
       "      <td>1467.0</td>\n",
       "      <td>1151.0</td>\n",
       "      <td>1857.0</td>\n",
       "      <td>Keels</td>\n",
       "    </tr>\n",
       "    <tr>\n",
       "      <th>9</th>\n",
       "      <td>2</td>\n",
       "      <td>1138.0</td>\n",
       "      <td>1628.0</td>\n",
       "      <td>1375.0</td>\n",
       "      <td>1792.0</td>\n",
       "      <td>Legs</td>\n",
       "    </tr>\n",
       "    <tr>\n",
       "      <th>10</th>\n",
       "      <td>2</td>\n",
       "      <td>1426.0</td>\n",
       "      <td>1102.0</td>\n",
       "      <td>1574.0</td>\n",
       "      <td>1162.0</td>\n",
       "      <td>Thigh</td>\n",
       "    </tr>\n",
       "    <tr>\n",
       "      <th>11</th>\n",
       "      <td>2</td>\n",
       "      <td>1106.0</td>\n",
       "      <td>1761.0</td>\n",
       "      <td>1116.0</td>\n",
       "      <td>1598.0</td>\n",
       "      <td>Wings</td>\n",
       "    </tr>\n",
       "    <tr>\n",
       "      <th>12</th>\n",
       "      <td>2</td>\n",
       "      <td>729.0</td>\n",
       "      <td>1076.0</td>\n",
       "      <td>265.0</td>\n",
       "      <td>1222.0</td>\n",
       "      <td>Breasts</td>\n",
       "    </tr>\n",
       "    <tr>\n",
       "      <th>13</th>\n",
       "      <td>2</td>\n",
       "      <td>1196.0</td>\n",
       "      <td>1164.0</td>\n",
       "      <td>1451.0</td>\n",
       "      <td>1483.0</td>\n",
       "      <td>Drumsticks</td>\n",
       "    </tr>\n",
       "  </tbody>\n",
       "</table>\n",
       "</div>"
      ],
      "text/plain": [
       "   Customer   Day_1   Day_2   Day_3   Day_4    Products\n",
       "0         1  1463.0   830.0  1635.0  1447.0        Ribs\n",
       "1         1  1397.0  1569.0  1106.0  1700.0       Keels\n",
       "2         1  1322.0  1550.0  1184.0  1161.0        Legs\n",
       "3         1  1269.0  1525.0  1331.0  1589.0       Thigh\n",
       "4         1   806.0  1095.0   425.0  1598.0       Wings\n",
       "5         1   577.0  1057.0   404.0  1715.0     Breasts\n",
       "6         1  3411.0  3411.0  3407.0  3411.0  Drumsticks\n",
       "7         2  1625.0   186.0  1498.0  1158.0        Ribs\n",
       "8         2  1104.0  1467.0  1151.0  1857.0       Keels\n",
       "9         2  1138.0  1628.0  1375.0  1792.0        Legs\n",
       "10        2  1426.0  1102.0  1574.0  1162.0       Thigh\n",
       "11        2  1106.0  1761.0  1116.0  1598.0       Wings\n",
       "12        2   729.0  1076.0   265.0  1222.0     Breasts\n",
       "13        2  1196.0  1164.0  1451.0  1483.0  Drumsticks"
      ]
     },
     "execution_count": 241,
     "metadata": {},
     "output_type": "execute_result"
    }
   ],
   "source": [
    "def sjoin(x): return ';'.join(x[x.notnull()].astype(str))\n",
    "df_final.groupby(level=0, axis=1).apply(lambda x: x.apply(sjoin, axis=1))"
   ]
  },
  {
   "cell_type": "code",
   "execution_count": 164,
   "metadata": {
    "collapsed": true
   },
   "outputs": [],
   "source": [
    "df = df.drop('days')"
   ]
  },
  {
   "cell_type": "code",
   "execution_count": 180,
   "metadata": {
    "collapsed": true
   },
   "outputs": [],
   "source": [
    "df=df.T"
   ]
  },
  {
   "cell_type": "code",
   "execution_count": 191,
   "metadata": {
    "collapsed": true
   },
   "outputs": [],
   "source": [
    "df =df.drop(' Products')"
   ]
  },
  {
   "cell_type": "code",
   "execution_count": 194,
   "metadata": {
    "collapsed": false
   },
   "outputs": [
    {
     "data": {
      "text/html": [
       "<div>\n",
       "<style scoped>\n",
       "    .dataframe tbody tr th:only-of-type {\n",
       "        vertical-align: middle;\n",
       "    }\n",
       "\n",
       "    .dataframe tbody tr th {\n",
       "        vertical-align: top;\n",
       "    }\n",
       "\n",
       "    .dataframe thead th {\n",
       "        text-align: right;\n",
       "    }\n",
       "</style>\n",
       "<table border=\"1\" class=\"dataframe\">\n",
       "  <thead>\n",
       "    <tr style=\"text-align: right;\">\n",
       "      <th></th>\n",
       "      <th>Day_1</th>\n",
       "      <th>Day_2</th>\n",
       "      <th>Day_3</th>\n",
       "      <th>Day_4</th>\n",
       "      <th>Customer</th>\n",
       "    </tr>\n",
       "    <tr>\n",
       "      <th>Products</th>\n",
       "      <th></th>\n",
       "      <th></th>\n",
       "      <th></th>\n",
       "      <th></th>\n",
       "      <th></th>\n",
       "    </tr>\n",
       "  </thead>\n",
       "  <tbody>\n",
       "    <tr>\n",
       "      <th>Ribs</th>\n",
       "      <td>1463</td>\n",
       "      <td>830</td>\n",
       "      <td>1635</td>\n",
       "      <td>1447</td>\n",
       "      <td>1</td>\n",
       "    </tr>\n",
       "    <tr>\n",
       "      <th>Keels</th>\n",
       "      <td>1397</td>\n",
       "      <td>1569</td>\n",
       "      <td>1106</td>\n",
       "      <td>1700</td>\n",
       "      <td>1</td>\n",
       "    </tr>\n",
       "    <tr>\n",
       "      <th>Legs</th>\n",
       "      <td>1322</td>\n",
       "      <td>1550</td>\n",
       "      <td>1184</td>\n",
       "      <td>1161</td>\n",
       "      <td>1</td>\n",
       "    </tr>\n",
       "    <tr>\n",
       "      <th>Thigh</th>\n",
       "      <td>1269</td>\n",
       "      <td>1525</td>\n",
       "      <td>1331</td>\n",
       "      <td>1589</td>\n",
       "      <td>1</td>\n",
       "    </tr>\n",
       "    <tr>\n",
       "      <th>Wings</th>\n",
       "      <td>806</td>\n",
       "      <td>1095</td>\n",
       "      <td>425</td>\n",
       "      <td>1598</td>\n",
       "      <td>1</td>\n",
       "    </tr>\n",
       "    <tr>\n",
       "      <th>Breasts</th>\n",
       "      <td>577</td>\n",
       "      <td>1057</td>\n",
       "      <td>404</td>\n",
       "      <td>1715</td>\n",
       "      <td>1</td>\n",
       "    </tr>\n",
       "    <tr>\n",
       "      <th>Drumsticks</th>\n",
       "      <td>3411</td>\n",
       "      <td>3411</td>\n",
       "      <td>3407</td>\n",
       "      <td>3411</td>\n",
       "      <td>1</td>\n",
       "    </tr>\n",
       "    <tr>\n",
       "      <th>Ribs</th>\n",
       "      <td>1625</td>\n",
       "      <td>186</td>\n",
       "      <td>1498</td>\n",
       "      <td>1158</td>\n",
       "      <td>2</td>\n",
       "    </tr>\n",
       "    <tr>\n",
       "      <th>Keels</th>\n",
       "      <td>1104</td>\n",
       "      <td>1467</td>\n",
       "      <td>1151</td>\n",
       "      <td>1857</td>\n",
       "      <td>2</td>\n",
       "    </tr>\n",
       "    <tr>\n",
       "      <th>Legs</th>\n",
       "      <td>1138</td>\n",
       "      <td>1628</td>\n",
       "      <td>1375</td>\n",
       "      <td>1792</td>\n",
       "      <td>2</td>\n",
       "    </tr>\n",
       "    <tr>\n",
       "      <th>Thigh</th>\n",
       "      <td>1426</td>\n",
       "      <td>1102</td>\n",
       "      <td>1574</td>\n",
       "      <td>1162</td>\n",
       "      <td>2</td>\n",
       "    </tr>\n",
       "    <tr>\n",
       "      <th>Wings</th>\n",
       "      <td>1106</td>\n",
       "      <td>1761</td>\n",
       "      <td>1116</td>\n",
       "      <td>1598</td>\n",
       "      <td>2</td>\n",
       "    </tr>\n",
       "    <tr>\n",
       "      <th>Breasts</th>\n",
       "      <td>729</td>\n",
       "      <td>1076</td>\n",
       "      <td>265</td>\n",
       "      <td>1222</td>\n",
       "      <td>2</td>\n",
       "    </tr>\n",
       "    <tr>\n",
       "      <th>Drumsticks</th>\n",
       "      <td>1196</td>\n",
       "      <td>1164</td>\n",
       "      <td>1451</td>\n",
       "      <td>1483</td>\n",
       "      <td>2</td>\n",
       "    </tr>\n",
       "  </tbody>\n",
       "</table>\n",
       "</div>"
      ],
      "text/plain": [
       "           Day_1 Day_2 Day_3 Day_4 Customer\n",
       "Products                                   \n",
       "Ribs        1463   830  1635  1447        1\n",
       "Keels       1397  1569  1106  1700        1\n",
       "Legs        1322  1550  1184  1161        1\n",
       "Thigh       1269  1525  1331  1589        1\n",
       "Wings        806  1095   425  1598        1\n",
       "Breasts      577  1057   404  1715        1\n",
       "Drumsticks  3411  3411  3407  3411        1\n",
       "Ribs        1625   186  1498  1158        2\n",
       "Keels       1104  1467  1151  1857        2\n",
       "Legs        1138  1628  1375  1792        2\n",
       "Thigh       1426  1102  1574  1162        2\n",
       "Wings       1106  1761  1116  1598        2\n",
       "Breasts      729  1076   265  1222        2\n",
       "Drumsticks  1196  1164  1451  1483        2"
      ]
     },
     "execution_count": 194,
     "metadata": {},
     "output_type": "execute_result"
    }
   ],
   "source": [
    "df"
   ]
  },
  {
   "cell_type": "code",
   "execution_count": 64,
   "metadata": {
    "collapsed": true
   },
   "outputs": [],
   "source": [
    "bird_count = pd.read_csv(\"Bird_Count.csv\")\n",
    "# bird_count.columns = range(bird_count.shape[1])\n",
    "bird_count.columns = ['Days','Number']\n",
    "bird_count = bird_count.T\n",
    "bird_count = bird_count.drop(\"Days\")\n",
    "bird_count.columns = ['Day_1','Day_2','Day_3','Day_4']\n",
    "bird_count['keyfigure'] = \"bird_count\""
   ]
  },
  {
   "cell_type": "code",
   "execution_count": 48,
   "metadata": {
    "collapsed": false
   },
   "outputs": [
    {
     "data": {
      "text/html": [
       "<div>\n",
       "<style scoped>\n",
       "    .dataframe tbody tr th:only-of-type {\n",
       "        vertical-align: middle;\n",
       "    }\n",
       "\n",
       "    .dataframe tbody tr th {\n",
       "        vertical-align: top;\n",
       "    }\n",
       "\n",
       "    .dataframe thead th {\n",
       "        text-align: right;\n",
       "    }\n",
       "</style>\n",
       "<table border=\"1\" class=\"dataframe\">\n",
       "  <thead>\n",
       "    <tr style=\"text-align: right;\">\n",
       "      <th></th>\n",
       "      <th>Days</th>\n",
       "      <th>Number</th>\n",
       "    </tr>\n",
       "  </thead>\n",
       "  <tbody>\n",
       "    <tr>\n",
       "      <th>0</th>\n",
       "      <td>A[1]</td>\n",
       "      <td>5620</td>\n",
       "    </tr>\n",
       "    <tr>\n",
       "      <th>1</th>\n",
       "      <td>A[2]</td>\n",
       "      <td>4800</td>\n",
       "    </tr>\n",
       "    <tr>\n",
       "      <th>2</th>\n",
       "      <td>A[3]</td>\n",
       "      <td>4970</td>\n",
       "    </tr>\n",
       "    <tr>\n",
       "      <th>3</th>\n",
       "      <td>A[4]</td>\n",
       "      <td>3560</td>\n",
       "    </tr>\n",
       "  </tbody>\n",
       "</table>\n",
       "</div>"
      ],
      "text/plain": [
       "   Days Number\n",
       "0  A[1]   5620\n",
       "1  A[2]   4800\n",
       "2  A[3]   4970\n",
       "3  A[4]   3560"
      ]
     },
     "execution_count": 48,
     "metadata": {},
     "output_type": "execute_result"
    }
   ],
   "source": [
    "bird_count = bird_count.T\n",
    "bird_count"
   ]
  },
  {
   "cell_type": "code",
   "execution_count": 1,
   "metadata": {
    "collapsed": true
   },
   "outputs": [],
   "source": [
    "import pandas as pd"
   ]
  },
  {
   "cell_type": "code",
   "execution_count": 16,
   "metadata": {
    "collapsed": false
   },
   "outputs": [],
   "source": [
    "data = pd.read_excel('2test.xlsm', sheetname=\"Demand_Fresh\")\n",
    "data = data.dropna(axis='columns', how='all')"
   ]
  },
  {
   "cell_type": "code",
   "execution_count": 17,
   "metadata": {
    "collapsed": false
   },
   "outputs": [
    {
     "data": {
      "text/html": [
       "<div>\n",
       "<style>\n",
       "    .dataframe thead tr:only-child th {\n",
       "        text-align: right;\n",
       "    }\n",
       "\n",
       "    .dataframe thead th {\n",
       "        text-align: left;\n",
       "    }\n",
       "\n",
       "    .dataframe tbody tr th {\n",
       "        vertical-align: top;\n",
       "    }\n",
       "</style>\n",
       "<table border=\"1\" class=\"dataframe\">\n",
       "  <thead>\n",
       "    <tr style=\"text-align: right;\">\n",
       "      <th></th>\n",
       "      <th>days</th>\n",
       "      <th>1</th>\n",
       "    </tr>\n",
       "  </thead>\n",
       "  <tbody>\n",
       "    <tr>\n",
       "      <th>0</th>\n",
       "      <td>BBR0F0000K02DC</td>\n",
       "      <td>1</td>\n",
       "    </tr>\n",
       "    <tr>\n",
       "      <th>1</th>\n",
       "      <td>BBRSF0000K02DC</td>\n",
       "      <td>2</td>\n",
       "    </tr>\n",
       "    <tr>\n",
       "      <th>2</th>\n",
       "      <td>BBRSF0000RETDC</td>\n",
       "      <td>3</td>\n",
       "    </tr>\n",
       "    <tr>\n",
       "      <th>3</th>\n",
       "      <td>BBRSMF000K04DC</td>\n",
       "      <td>4</td>\n",
       "    </tr>\n",
       "    <tr>\n",
       "      <th>4</th>\n",
       "      <td>CTH013160K02DC</td>\n",
       "      <td>5</td>\n",
       "    </tr>\n",
       "  </tbody>\n",
       "</table>\n",
       "</div>"
      ],
      "text/plain": [
       "             days  1\n",
       "0  BBR0F0000K02DC  1\n",
       "1  BBRSF0000K02DC  2\n",
       "2  BBRSF0000RETDC  3\n",
       "3  BBRSMF000K04DC  4\n",
       "4  CTH013160K02DC  5"
      ]
     },
     "execution_count": 17,
     "metadata": {},
     "output_type": "execute_result"
    }
   ],
   "source": [
    "data.head()"
   ]
  },
  {
   "cell_type": "code",
   "execution_count": 18,
   "metadata": {
    "collapsed": false
   },
   "outputs": [],
   "source": [
    "from itertools import product\n",
    "# pd.DataFrame(list(product(l1, l2)), columns=['l1', 'l2'])\n",
    "d = pd.DataFrame(list(product(data['days'], data[1])))\n",
    "d\n",
    "d['Combined'] = list(zip(d[0], d[1]))\n",
    "lst = []\n",
    "for i in d['Combined']:\n",
    "    lst.append(i[0]+'_'+str(i[1]))\n",
    "d['Combined']=lst\n",
    "d.to_csv('Combined.csv')"
   ]
  },
  {
   "cell_type": "code",
   "execution_count": 6,
   "metadata": {
    "collapsed": true
   },
   "outputs": [],
   "source": [
    "data = pd.read_excel('Model_Input_Final.xlsm', sheetname=\"Yield\",)\n",
    "data = data.dropna(axis='columns', how='all')"
   ]
  },
  {
   "cell_type": "code",
   "execution_count": 5,
   "metadata": {
    "collapsed": false
   },
   "outputs": [],
   "source": [
    "data = data.reset_index()"
   ]
  },
  {
   "cell_type": "code",
   "execution_count": 5,
   "metadata": {
    "collapsed": false
   },
   "outputs": [
    {
     "data": {
      "text/html": [
       "<div>\n",
       "<style>\n",
       "    .dataframe thead tr:only-child th {\n",
       "        text-align: right;\n",
       "    }\n",
       "\n",
       "    .dataframe thead th {\n",
       "        text-align: left;\n",
       "    }\n",
       "\n",
       "    .dataframe tbody tr th {\n",
       "        vertical-align: top;\n",
       "    }\n",
       "</style>\n",
       "<table border=\"1\" class=\"dataframe\">\n",
       "  <thead>\n",
       "    <tr style=\"text-align: right;\">\n",
       "      <th></th>\n",
       "      <th>Product</th>\n",
       "      <th>Cutting Pattern</th>\n",
       "      <th>1.6</th>\n",
       "      <th>1.65</th>\n",
       "      <th>1.7</th>\n",
       "      <th>1.75</th>\n",
       "      <th>1.8</th>\n",
       "      <th>1.85</th>\n",
       "      <th>1.9</th>\n",
       "      <th>1.95</th>\n",
       "      <th>2</th>\n",
       "      <th>2.05</th>\n",
       "      <th>2.1</th>\n",
       "      <th>2.15</th>\n",
       "      <th>2.2</th>\n",
       "      <th>2.25</th>\n",
       "      <th>2.3</th>\n",
       "      <th>2.35</th>\n",
       "      <th>2.4</th>\n",
       "    </tr>\n",
       "  </thead>\n",
       "  <tbody>\n",
       "    <tr>\n",
       "      <th>0</th>\n",
       "      <td>BBR02325ZK12DC</td>\n",
       "      <td>11</td>\n",
       "      <td>0.307559</td>\n",
       "      <td>0.317170</td>\n",
       "      <td>0.326781</td>\n",
       "      <td>NaN</td>\n",
       "      <td>NaN</td>\n",
       "      <td>NaN</td>\n",
       "      <td>NaN</td>\n",
       "      <td>NaN</td>\n",
       "      <td>NaN</td>\n",
       "      <td>NaN</td>\n",
       "      <td>NaN</td>\n",
       "      <td>NaN</td>\n",
       "      <td>NaN</td>\n",
       "      <td>NaN</td>\n",
       "      <td>NaN</td>\n",
       "      <td>NaN</td>\n",
       "      <td>NaN</td>\n",
       "    </tr>\n",
       "    <tr>\n",
       "      <th>1</th>\n",
       "      <td>BBR02325ZK12DC</td>\n",
       "      <td>18</td>\n",
       "      <td>0.307559</td>\n",
       "      <td>0.317170</td>\n",
       "      <td>0.326781</td>\n",
       "      <td>NaN</td>\n",
       "      <td>NaN</td>\n",
       "      <td>NaN</td>\n",
       "      <td>NaN</td>\n",
       "      <td>NaN</td>\n",
       "      <td>NaN</td>\n",
       "      <td>NaN</td>\n",
       "      <td>NaN</td>\n",
       "      <td>NaN</td>\n",
       "      <td>NaN</td>\n",
       "      <td>NaN</td>\n",
       "      <td>NaN</td>\n",
       "      <td>NaN</td>\n",
       "      <td>NaN</td>\n",
       "    </tr>\n",
       "    <tr>\n",
       "      <th>2</th>\n",
       "      <td>BBR0F0000K02DC</td>\n",
       "      <td>9</td>\n",
       "      <td>0.316803</td>\n",
       "      <td>0.326703</td>\n",
       "      <td>0.336603</td>\n",
       "      <td>0.346503</td>\n",
       "      <td>0.371000</td>\n",
       "      <td>0.381305</td>\n",
       "      <td>0.391611</td>\n",
       "      <td>0.401916</td>\n",
       "      <td>0.428440</td>\n",
       "      <td>0.439151</td>\n",
       "      <td>0.449862</td>\n",
       "      <td>0.460573</td>\n",
       "      <td>0.440127</td>\n",
       "      <td>0.450130</td>\n",
       "      <td>0.460133</td>\n",
       "      <td>0.470136</td>\n",
       "      <td>0.480139</td>\n",
       "    </tr>\n",
       "    <tr>\n",
       "      <th>3</th>\n",
       "      <td>BBR0F0000K02DC</td>\n",
       "      <td>16</td>\n",
       "      <td>0.316803</td>\n",
       "      <td>0.326703</td>\n",
       "      <td>0.336603</td>\n",
       "      <td>0.346503</td>\n",
       "      <td>0.371000</td>\n",
       "      <td>0.381305</td>\n",
       "      <td>0.391611</td>\n",
       "      <td>0.401916</td>\n",
       "      <td>0.428440</td>\n",
       "      <td>0.439151</td>\n",
       "      <td>0.449862</td>\n",
       "      <td>0.460573</td>\n",
       "      <td>0.440127</td>\n",
       "      <td>0.450130</td>\n",
       "      <td>0.460133</td>\n",
       "      <td>0.470136</td>\n",
       "      <td>0.480139</td>\n",
       "    </tr>\n",
       "    <tr>\n",
       "      <th>4</th>\n",
       "      <td>BBR0F0000K02DC</td>\n",
       "      <td>10</td>\n",
       "      <td>0.272914</td>\n",
       "      <td>0.281443</td>\n",
       "      <td>0.289971</td>\n",
       "      <td>0.298500</td>\n",
       "      <td>0.326576</td>\n",
       "      <td>0.335648</td>\n",
       "      <td>0.344719</td>\n",
       "      <td>0.353791</td>\n",
       "      <td>0.384582</td>\n",
       "      <td>0.394197</td>\n",
       "      <td>0.403811</td>\n",
       "      <td>0.413426</td>\n",
       "      <td>0.379843</td>\n",
       "      <td>0.388476</td>\n",
       "      <td>0.397109</td>\n",
       "      <td>0.405742</td>\n",
       "      <td>0.414375</td>\n",
       "    </tr>\n",
       "  </tbody>\n",
       "</table>\n",
       "</div>"
      ],
      "text/plain": [
       "          Product  Cutting Pattern       1.6      1.65       1.7      1.75  \\\n",
       "0  BBR02325ZK12DC               11  0.307559  0.317170  0.326781       NaN   \n",
       "1  BBR02325ZK12DC               18  0.307559  0.317170  0.326781       NaN   \n",
       "2  BBR0F0000K02DC                9  0.316803  0.326703  0.336603  0.346503   \n",
       "3  BBR0F0000K02DC               16  0.316803  0.326703  0.336603  0.346503   \n",
       "4  BBR0F0000K02DC               10  0.272914  0.281443  0.289971  0.298500   \n",
       "\n",
       "        1.8      1.85       1.9      1.95         2      2.05       2.1  \\\n",
       "0       NaN       NaN       NaN       NaN       NaN       NaN       NaN   \n",
       "1       NaN       NaN       NaN       NaN       NaN       NaN       NaN   \n",
       "2  0.371000  0.381305  0.391611  0.401916  0.428440  0.439151  0.449862   \n",
       "3  0.371000  0.381305  0.391611  0.401916  0.428440  0.439151  0.449862   \n",
       "4  0.326576  0.335648  0.344719  0.353791  0.384582  0.394197  0.403811   \n",
       "\n",
       "       2.15       2.2      2.25       2.3      2.35       2.4  \n",
       "0       NaN       NaN       NaN       NaN       NaN       NaN  \n",
       "1       NaN       NaN       NaN       NaN       NaN       NaN  \n",
       "2  0.460573  0.440127  0.450130  0.460133  0.470136  0.480139  \n",
       "3  0.460573  0.440127  0.450130  0.460133  0.470136  0.480139  \n",
       "4  0.413426  0.379843  0.388476  0.397109  0.405742  0.414375  "
      ]
     },
     "execution_count": 5,
     "metadata": {},
     "output_type": "execute_result"
    }
   ],
   "source": [
    "data.head()"
   ]
  },
  {
   "cell_type": "code",
   "execution_count": 6,
   "metadata": {
    "collapsed": false
   },
   "outputs": [
    {
     "data": {
      "text/plain": [
       "Index([        u'Product', u'Cutting Pattern',                1.6,\n",
       "                     1.65,                1.7,               1.75,\n",
       "                      1.8,               1.85,                1.9,\n",
       "                     1.95,                  2,               2.05,\n",
       "                      2.1,               2.15,                2.2,\n",
       "                     2.25,                2.3,               2.35,\n",
       "                      2.4],\n",
       "      dtype='object')"
      ]
     },
     "execution_count": 6,
     "metadata": {},
     "output_type": "execute_result"
    }
   ],
   "source": [
    "data.columns"
   ]
  },
  {
   "cell_type": "code",
   "execution_count": 7,
   "metadata": {
    "collapsed": true
   },
   "outputs": [],
   "source": [
    "bird_ratio =  pd.read_excel('Model_Input_Final.xlsm', sheetname=\"Bird_Type_Ratio\",)\n",
    "bird_ratio = bird_ratio.dropna(axis='columns', how='all')"
   ]
  },
  {
   "cell_type": "code",
   "execution_count": 9,
   "metadata": {
    "collapsed": true
   },
   "outputs": [],
   "source": [
    "item_group =  pd.read_excel('Model_Input_Final.xlsm', sheetname=\"Item_Product_Group_Map\",)\n",
    "item_group  = item_group .dropna(axis='columns', how='all')"
   ]
  },
  {
   "cell_type": "code",
   "execution_count": 10,
   "metadata": {
    "collapsed": false
   },
   "outputs": [
    {
     "data": {
      "text/plain": [
       "220"
      ]
     },
     "execution_count": 10,
     "metadata": {},
     "output_type": "execute_result"
    }
   ],
   "source": [
    "len(item_group['Item'])"
   ]
  },
  {
   "cell_type": "code",
   "execution_count": 2,
   "metadata": {
    "collapsed": false
   },
   "outputs": [],
   "source": [
    "demand_fresh = pd.read_excel('Model_Input_Final.xlsm', sheetname=\"Demand_Fresh\")\n",
    "demand_fresh = demand_fresh.dropna(axis='columns', how='all')"
   ]
  },
  {
   "cell_type": "code",
   "execution_count": 3,
   "metadata": {
    "collapsed": false
   },
   "outputs": [
    {
     "data": {
      "text/plain": [
       "119"
      ]
     },
     "execution_count": 3,
     "metadata": {},
     "output_type": "execute_result"
    }
   ],
   "source": [
    "demand_frozen = pd.read_excel('Model_Input_Final.xlsm', sheetname=\"Demand_Frozen\")\n",
    "demand_frozen = demand_frozen.dropna(axis='columns', how='all')\n",
    "len(demand_frozen['item code'])"
   ]
  },
  {
   "cell_type": "code",
   "execution_count": 4,
   "metadata": {
    "collapsed": false
   },
   "outputs": [
    {
     "data": {
      "text/plain": [
       "51"
      ]
     },
     "execution_count": 4,
     "metadata": {},
     "output_type": "execute_result"
    }
   ],
   "source": [
    "ff = pd.read_excel('Model_Input_Final.xlsm', sheetname=\"Fresh_Frozen_Relation\")\n",
    "ff = ff.dropna(axis='columns', how='all')\n",
    "len(ff)"
   ]
  },
  {
   "cell_type": "code",
   "execution_count": 14,
   "metadata": {
    "collapsed": false
   },
   "outputs": [],
   "source": [
    "fre = []\n",
    "for i in set(ff['Fresh SKU'].unique()):\n",
    "    fre.append(i[:-2])\n",
    "fro = []\n",
    "for i in set(ff['Frozen SKU'].unique()):\n",
    "    fro.append(i[:-2])\n",
    "dfre = []\n",
    "for i in set(demand_fresh['item code'].unique()):\n",
    "    dfre.append(i[:-2])\n",
    "dfro = []\n",
    "for i in set(demand_frozen['item code'].unique()):\n",
    "    dfro.append(i[:-2])"
   ]
  },
  {
   "cell_type": "code",
   "execution_count": 5,
   "metadata": {
    "collapsed": false
   },
   "outputs": [],
   "source": [
    "demand = list(demand_fresh['item code'])+list(demand_frozen['item code'])"
   ]
  },
  {
   "cell_type": "code",
   "execution_count": 6,
   "metadata": {
    "collapsed": false
   },
   "outputs": [
    {
     "data": {
      "text/plain": [
       "Index([u'item code', 1, 2, 3, 4], dtype='object')"
      ]
     },
     "execution_count": 6,
     "metadata": {},
     "output_type": "execute_result"
    }
   ],
   "source": [
    "demand_fresh.columns"
   ]
  },
  {
   "cell_type": "code",
   "execution_count": 7,
   "metadata": {
    "collapsed": false
   },
   "outputs": [
    {
     "name": "stderr",
     "output_type": "stream",
     "text": [
      "/usr/local/lib/python2.7/dist-packages/ipykernel_launcher.py:4: SettingWithCopyWarning: \n",
      "A value is trying to be set on a copy of a slice from a DataFrame\n",
      "\n",
      "See the caveats in the documentation: http://pandas.pydata.org/pandas-docs/stable/indexing.html#indexing-view-versus-copy\n",
      "  after removing the cwd from sys.path.\n"
     ]
    }
   ],
   "source": [
    "ff =ff.astype(str)\n",
    "for i in demand_frozen['item code'].astype(str).unique():\n",
    "    if i in ff['Frozen SKU'].astype(str).unique():\n",
    "        demand_frozen['item code'][demand_frozen.index[demand_frozen['item code']==i]]=ff['Fresh SKU'][ff.index[ff['Frozen SKU']==i]]"
   ]
  },
  {
   "cell_type": "code",
   "execution_count": 93,
   "metadata": {
    "collapsed": false
   },
   "outputs": [],
   "source": [
    "data = pd.read_excel('Model_Input_Final.xlsm', sheetname=\"Yield_Originals\",)\n",
    "data = data.dropna(axis='columns', how='all')"
   ]
  },
  {
   "cell_type": "code",
   "execution_count": 65,
   "metadata": {
    "collapsed": false
   },
   "outputs": [
    {
     "data": {
      "text/plain": [
       "365.0"
      ]
     },
     "execution_count": 65,
     "metadata": {},
     "output_type": "execute_result"
    }
   ],
   "source": [
    "shelf_lif = pd.read_excel('Model_Input_Final.xlsm', sheetname='Shelf_Life')\n",
    "shelf_lif['item code'] = shelf_lif['item code'].astype(str)\n",
    "shelf_life = max(shelf_lif['Shelf_Life'])\n",
    "shelf_lif[shelf_lif['item code']=='BBR0F0000K02DC']['Shelf_Life'].iloc[0]"
   ]
  },
  {
   "cell_type": "code",
   "execution_count": 96,
   "metadata": {
    "collapsed": false
   },
   "outputs": [],
   "source": [
    "data =data.reset_index()"
   ]
  },
  {
   "cell_type": "code",
   "execution_count": 71,
   "metadata": {
    "collapsed": false
   },
   "outputs": [
    {
     "name": "stdout",
     "output_type": "stream",
     "text": [
      "<type 'unicode'>\n",
      "<type 'unicode'>\n",
      "<type 'unicode'>\n",
      "<type 'unicode'>\n"
     ]
    }
   ],
   "source": [
    "for i in demand_fresh.columns[1:]:\n",
    "    print(type(i))"
   ]
  },
  {
   "cell_type": "code",
   "execution_count": 83,
   "metadata": {
    "collapsed": false
   },
   "outputs": [],
   "source": [
    "availability = pd.read_excel('Model_Input_Final.xlsm' ,sheetname='Availability')\n",
    "availability = availability.dropna(axis='columns', how='all')"
   ]
  },
  {
   "cell_type": "code",
   "execution_count": 91,
   "metadata": {
    "collapsed": false
   },
   "outputs": [
    {
     "data": {
      "text/plain": [
       "91368"
      ]
     },
     "execution_count": 91,
     "metadata": {},
     "output_type": "execute_result"
    }
   ],
   "source": [
    "availability[availability['Days']=='Week 2']['Availability'].iloc[0]"
   ]
  },
  {
   "cell_type": "code",
   "execution_count": 94,
   "metadata": {
    "collapsed": false
   },
   "outputs": [
    {
     "data": {
      "text/html": [
       "<div>\n",
       "<style>\n",
       "    .dataframe thead tr:only-child th {\n",
       "        text-align: right;\n",
       "    }\n",
       "\n",
       "    .dataframe thead th {\n",
       "        text-align: left;\n",
       "    }\n",
       "\n",
       "    .dataframe tbody tr th {\n",
       "        vertical-align: top;\n",
       "    }\n",
       "</style>\n",
       "<table border=\"1\" class=\"dataframe\">\n",
       "  <thead>\n",
       "    <tr style=\"text-align: right;\">\n",
       "      <th></th>\n",
       "      <th>item code</th>\n",
       "      <th>Week 1</th>\n",
       "      <th>Week 2</th>\n",
       "      <th>Week 3</th>\n",
       "      <th>Week 4</th>\n",
       "    </tr>\n",
       "  </thead>\n",
       "  <tbody>\n",
       "    <tr>\n",
       "      <th>0</th>\n",
       "      <td>BBR0F0000K02DC</td>\n",
       "      <td>1918.683075</td>\n",
       "      <td>1918.683075</td>\n",
       "      <td>1918.683075</td>\n",
       "      <td>1918.683075</td>\n",
       "    </tr>\n",
       "    <tr>\n",
       "      <th>1</th>\n",
       "      <td>BBRSF0000K02DC</td>\n",
       "      <td>680.368225</td>\n",
       "      <td>680.368225</td>\n",
       "      <td>680.368225</td>\n",
       "      <td>680.368225</td>\n",
       "    </tr>\n",
       "    <tr>\n",
       "      <th>2</th>\n",
       "      <td>BBRSMF000K04DC</td>\n",
       "      <td>31383.528650</td>\n",
       "      <td>31383.528650</td>\n",
       "      <td>31383.528650</td>\n",
       "      <td>31383.528650</td>\n",
       "    </tr>\n",
       "    <tr>\n",
       "      <th>3</th>\n",
       "      <td>BFL0F0000K02DC</td>\n",
       "      <td>2576.113525</td>\n",
       "      <td>2576.113525</td>\n",
       "      <td>2576.113525</td>\n",
       "      <td>2576.113525</td>\n",
       "    </tr>\n",
       "    <tr>\n",
       "      <th>4</th>\n",
       "      <td>BLG0F0000K02DC</td>\n",
       "      <td>465.139750</td>\n",
       "      <td>465.139750</td>\n",
       "      <td>465.139750</td>\n",
       "      <td>465.139750</td>\n",
       "    </tr>\n",
       "  </tbody>\n",
       "</table>\n",
       "</div>"
      ],
      "text/plain": [
       "        item code        Week 1        Week 2        Week 3        Week 4\n",
       "0  BBR0F0000K02DC   1918.683075   1918.683075   1918.683075   1918.683075\n",
       "1  BBRSF0000K02DC    680.368225    680.368225    680.368225    680.368225\n",
       "2  BBRSMF000K04DC  31383.528650  31383.528650  31383.528650  31383.528650\n",
       "3  BFL0F0000K02DC   2576.113525   2576.113525   2576.113525   2576.113525\n",
       "4  BLG0F0000K02DC    465.139750    465.139750    465.139750    465.139750"
      ]
     },
     "execution_count": 94,
     "metadata": {},
     "output_type": "execute_result"
    }
   ],
   "source": [
    "demand_fresh.head()"
   ]
  },
  {
   "cell_type": "code",
   "execution_count": 96,
   "metadata": {
    "collapsed": false
   },
   "outputs": [
    {
     "data": {
      "text/plain": [
       "1918.6830749999999"
      ]
     },
     "execution_count": 96,
     "metadata": {},
     "output_type": "execute_result"
    }
   ],
   "source": [
    "demand_fresh[demand_fresh['item code']=='BBR0F0000K02DC']['Week 1'].iloc[0]"
   ]
  },
  {
   "cell_type": "code",
   "execution_count": 5,
   "metadata": {
    "collapsed": false
   },
   "outputs": [],
   "source": [
    "y = pd.read_excel('Model_Input_Final.xlsm', sheetname=\"Yield\",)\n",
    "y = y.dropna(axis='columns', how='all')"
   ]
  },
  {
   "cell_type": "code",
   "execution_count": 13,
   "metadata": {
    "collapsed": false
   },
   "outputs": [
    {
     "data": {
      "text/plain": [
       "2    BBR0F0000K02DC\n",
       "3    BBR0F0000K02DC\n",
       "4    BBR0F0000K02DC\n",
       "5    BBR0F0000K02DC\n",
       "Name: item code, dtype: object"
      ]
     },
     "execution_count": 13,
     "metadata": {},
     "output_type": "execute_result"
    }
   ],
   "source": [
    "y['item code'][y['item code']=='BBR0F0000K02DC']"
   ]
  },
  {
   "cell_type": "code",
   "execution_count": 45,
   "metadata": {
    "collapsed": false
   },
   "outputs": [
    {
     "data": {
      "text/plain": [
       "192"
      ]
     },
     "execution_count": 45,
     "metadata": {},
     "output_type": "execute_result"
    }
   ],
   "source": [
    "for i in y['item code'].astype(str).unique():\n",
    "    if i in ff['Frozen SKU'].astype(str).unique():\n",
    "        print(ff['Fresh SKU'][ff.index[ff['Frozen SKU']==i]])\n",
    "len(set(y['item code']))"
   ]
  },
  {
   "cell_type": "code",
   "execution_count": 14,
   "metadata": {
    "collapsed": false
   },
   "outputs": [
    {
     "data": {
      "text/plain": [
       "{u'BBR02325ZK12DC',\n",
       " u'BBR0F0000K02DC',\n",
       " u'BBR0F0000K02DF',\n",
       " u'BBR0F000ZK25DC',\n",
       " u'BBR0FTRFZK15DC',\n",
       " u'BBR0FTRIMK05DC',\n",
       " u'BBR0FTRIMK05DF',\n",
       " u'BBR0FTRWZK15DC',\n",
       " u'BBRS07595P24DF',\n",
       " u'BBRS12150K02DC',\n",
       " u'BBRS12150K02DF',\n",
       " u'BBRS16180K05DC',\n",
       " u'BBRS16180K05DF',\n",
       " u'BBRS1821FK02DC',\n",
       " u'BBRS1821FK02DF',\n",
       " u'BBRS1823FK02DF',\n",
       " u'BBRS2325FK06DC',\n",
       " u'BBRS2325FK06DF',\n",
       " u'BBRS7585ZP20DC',\n",
       " u'BBRSF0000K02DC',\n",
       " u'BBRSF0000K02DF',\n",
       " u'BBRSF0000K03PF',\n",
       " u'BBRSF000ZK25DC',\n",
       " u'BBRSF00FZK12DC',\n",
       " u'BBRSF0NDZK12DC',\n",
       " u'BBRSF0PCZK12DC',\n",
       " u'BBRSF3540K02DF',\n",
       " u'BBRSF354ZK12DC',\n",
       " u'BBRSFCHRZK12DC',\n",
       " u'BBRSMF000K04DC',\n",
       " u'BBRSMF000K04DF',\n",
       " u'BBRSMF000K05DC',\n",
       " u'BBRSMF000K05DF',\n",
       " u'BBRSMF02CK02DF',\n",
       " u'BCH019220K02DF',\n",
       " u'BCH01922ZK12DC',\n",
       " u'BCH0192JZK06DF',\n",
       " u'BCH02123ZK12DC',\n",
       " u'BFL003540K02DF',\n",
       " u'BFL004047K02DF',\n",
       " u'BFL02035ZK12DC',\n",
       " u'BFL03554ZK12DC',\n",
       " u'BFL0F0000K02DC',\n",
       " u'BFL0F0000K02DF',\n",
       " u'BFL0F0000K02PF',\n",
       " u'BFL0F000ZK25DC',\n",
       " u'BFL0FFINZK12DC',\n",
       " u'BFL0FTAYZK12DC',\n",
       " u'BFL0FWOTZK12DC',\n",
       " u'BFL0MEATZK02DC',\n",
       " u'BLG018230K02DF',\n",
       " u'BLG0F0000K02DC',\n",
       " u'BLG0F0000K02DF',\n",
       " u'BLG0F000ZK25DC',\n",
       " u'BLGS07595P24DF',\n",
       " u'BLGSF0000K02DC',\n",
       " u'BLGSF0000K02DF',\n",
       " u'BLGSF000ZK25DC',\n",
       " u'BLGSF00FZK12DC',\n",
       " u'BLGSFBSDZK12DC',\n",
       " u'BLGSFBSDZK12DF',\n",
       " u'BLGSFTAYZK12DC',\n",
       " u'BLGSMF000K05DC',\n",
       " u'BTH005565K06DF',\n",
       " u'BTH007585K04DC',\n",
       " u'BTH007585P12DF',\n",
       " u'BTH009100K06DF',\n",
       " u'BTH009100P10DC',\n",
       " u'BTH0CU020K02DF',\n",
       " u'BTH0F0000K02DC',\n",
       " u'BTH0F0000K02DF',\n",
       " u'BTH0F000ZK25DC',\n",
       " u'BTH0F00DZK12DC',\n",
       " u'BTHS07595P24DF',\n",
       " u'BTHS5070ZK12DC',\n",
       " u'BTHS7090ZK12DC',\n",
       " u'BTHS8090ZK12DC',\n",
       " u'BTHS8499ZK12DC',\n",
       " u'BTHSF0000K02DC',\n",
       " u'BTHSF0000K02DF',\n",
       " u'BTHSF000ZK25DC',\n",
       " u'BTHSF00FZK12DC',\n",
       " u'BTHSMF000K04DC',\n",
       " u'BTHSMF000K04DF',\n",
       " u'BTHSMF02CK02DF',\n",
       " u'BTHSMF0FFK04DC',\n",
       " u'C10PCKP0ZP10DC',\n",
       " u'C3JW00BRUK02DF',\n",
       " u'C3JW07100K02DC',\n",
       " u'C3JW07100K02DF',\n",
       " u'C3JW0710ZK12DC',\n",
       " u'C3JW09120K04DF',\n",
       " u'C3JW09130K02DC',\n",
       " u'C3JW09130K02DF',\n",
       " u'C3JW0913VP06DC',\n",
       " u'C3JW0913VP06DF',\n",
       " u'C3JW0WIPZK12DC',\n",
       " u'C3JWL0000K02DF',\n",
       " u'C3JWNSBRUK02DF',\n",
       " u'C4PC00000P08DC',\n",
       " u'C8PC0TEXZP08DC',\n",
       " u'C8PC0TEXZP16DC',\n",
       " u'C9PC00000P18DC',\n",
       " u'C9PC00000P18DF',\n",
       " u'C9PC00KFCP18DF',\n",
       " u'C9PC00WDZP18DC',\n",
       " u'C9PC0WIPZP18DC',\n",
       " u'C9PCAW000P18DC',\n",
       " u'C9PCAW000P18DF',\n",
       " u'C9PCAW00ZP18DC',\n",
       " u'C9PCGCH00P18DF',\n",
       " u'C9PCKFC00P14DC',\n",
       " u'C9PCKFC00P14DF',\n",
       " u'C9PCKFC00P18DC',\n",
       " u'C9PCMD000P18DC',\n",
       " u'C9PCMD000P18DF',\n",
       " u'C9PCMD00ZP18DC',\n",
       " u'C9PCMDSTZP18DC',\n",
       " u'C9PCWBM20P18DC',\n",
       " u'C9PCWBM20P18DF',\n",
       " u'CBR0F0000K06DC',\n",
       " u'CBR0F0000K06DF',\n",
       " u'CBRSH2332P10DC',\n",
       " u'CBRSH2332P10DF',\n",
       " u'CBRSHWIPZK12DC',\n",
       " u'CCHI6080ZK06DC',\n",
       " u'CCHICU000K02DC',\n",
       " u'CCHICU000K06DC',\n",
       " u'CCHICU000K06DF',\n",
       " u'CCHICU000RETDC',\n",
       " u'CCHICU000RETDF',\n",
       " u'CDS008110K02DC',\n",
       " u'CDS008110K02DF',\n",
       " u'CDS0081BZK12DC',\n",
       " u'CDS00WIPZK12DC',\n",
       " u'CDS010140K02DC',\n",
       " u'CDS010140K02DF',\n",
       " u'CDS010140P20DC',\n",
       " u'CDS010140P20DF',\n",
       " u'CDS01014VP06DC',\n",
       " u'CDS01014VP06DF',\n",
       " u'CDS0CU000K02DC',\n",
       " u'CDS0CU000K02DF',\n",
       " u'CDS0J0000K02DF',\n",
       " u'CDS0L0000K02DC',\n",
       " u'CDS0MD00ZP20DC',\n",
       " u'CDS0S0000K02DC',\n",
       " u'CDS0S0000K02DF',\n",
       " u'CKE00WIPZK12DC',\n",
       " u'CKE01218VP04DC',\n",
       " u'CKE01218VP04DF',\n",
       " u'CKE0F0000K02DC',\n",
       " u'CKE0F0000K02DF',\n",
       " u'CKE0F000ZK12DC',\n",
       " u'CLG000300K06DC',\n",
       " u'CLG00WIPZK12DC',\n",
       " u'CLG022270K06DC',\n",
       " u'CLG022270K06DF',\n",
       " u'CLG022270P10DC',\n",
       " u'CLG022270P10DF',\n",
       " u'CLG02227ZP10DC',\n",
       " u'CLG02528ZP10DC',\n",
       " u'CLG026340K06DC',\n",
       " u'CLG026340K06DF',\n",
       " u'CLG2227KZP10DC',\n",
       " u'CRB00WIPZK12DC',\n",
       " u'CRB015190K02DC',\n",
       " u'CRB015190K02DF',\n",
       " u'CRB015190K06DC',\n",
       " u'CRB019240K02DC',\n",
       " u'CRB019240K02DF',\n",
       " u'CRB019240K06DC',\n",
       " u'CRB01924VP04DC',\n",
       " u'CRB01924VP04DF',\n",
       " u'CSLG2227ZP10DC',\n",
       " u'CTH00WIPZK12DC',\n",
       " u'CTH013160K02DC',\n",
       " u'CTH013160K02DF',\n",
       " u'CTH013160P20DF',\n",
       " u'CTH01316ZK12DC',\n",
       " u'CTH01316ZP20DC',\n",
       " u'CTH015180P12DF',\n",
       " u'CTH016190K02DF',\n",
       " u'CTH016210K02DC',\n",
       " u'CTH016210K02DF',\n",
       " u'CTH016210P20DF',\n",
       " u'CTH01621VP04DC',\n",
       " u'CTH01621VP04DF',\n",
       " u'GCARF0000K10DC',\n",
       " u'GCARF0000K10DF',\n",
       " u'GFAT000SKK01DF',\n",
       " u'GFATF0000K05DF',\n",
       " u'GFT0FBK00K06DC',\n",
       " u'GFT0FBK00K06DF',\n",
       " u'GFT0J0000K06DC',\n",
       " u'GFT0J0000K06DF',\n",
       " u'GFT0RG000K06DC',\n",
       " u'GFT0RG000K06DF',\n",
       " u'GGB0F0000K10DF',\n",
       " u'GGIZF0000K02DC',\n",
       " u'GGIZF0000K02DF',\n",
       " u'GGRDMMTPRK01DF',\n",
       " u'GGRDMMTSKK02DF',\n",
       " u'GHD0F0000K05DC',\n",
       " u'GLGBF0000K06DC',\n",
       " u'GLGBF0000K06DF',\n",
       " u'GLH0F0000K02DC',\n",
       " u'GLH0F0000K02DF',\n",
       " u'GLH0FBK00K02DC',\n",
       " u'GLV002426K13DC',\n",
       " u'GNK0F0000K10DF',\n",
       " u'GNKSF0000K06DC',\n",
       " u'GNKSF0000K06DF',\n",
       " u'GSK0MF000K04DC',\n",
       " u'GSK0MF000K04DF',\n",
       " u'GSKNF0000K05DF',\n",
       " u'GTL0F0000K06DC',\n",
       " u'GTL0F0000K06DF',\n",
       " u'GTL0F0BRUK06DF',\n",
       " u'MPORBBSAWP10DF',\n",
       " u'MPORBBSNDP05DC',\n",
       " u'MPORBFTEXK02DF',\n",
       " u'MPORBLBNDP04DC',\n",
       " u'MPORBSTEKP12DF',\n",
       " u'MPORBSTNDP10DC',\n",
       " u'MPORBTSTXK02DF',\n",
       " u'MPORBTSWDP20DF',\n",
       " u'MPORC4TEXP08DC',\n",
       " u'MPORC8TEXP16DC',\n",
       " u'MPORC9AW0P09DF',\n",
       " u'MPORC9AWSP09DF',\n",
       " u'MPORC9MD0P09DF',\n",
       " u'MPORC9MD0P18DC',\n",
       " u'MPORC9MDSP09DF',\n",
       " u'MPORC9MDSP18DC',\n",
       " u'MPORC9WD0P18DC',\n",
       " u'MPORC9WD0P18DF',\n",
       " u'MPORCH0BPP02DF',\n",
       " u'MPORCHBBQP02DF',\n",
       " u'MPORCHKROP10DF',\n",
       " u'MPORCHORIP10DF',\n",
       " u'MPORCHOWDP10DF',\n",
       " u'MPORCKRBPP10DF',\n",
       " u'MPORDMKRSP20DF',\n",
       " u'MPORFILNDP20DC',\n",
       " u'MPORFLTEXK02DF',\n",
       " u'MPORPDMT0K02CF',\n",
       " u'MPORPMJW0K02CF',\n",
       " u'MPORPWLNDP09DC',\n",
       " u'MPORPWLNDP20DC',\n",
       " u'MPORQLEKKP10DC',\n",
       " u'MPORQLSORP10DF',\n",
       " u'MPORQTLBPP10DC',\n",
       " u'MPORQTLHSP10DC',\n",
       " u'MPORQTLHYP10DC',\n",
       " u'MPORTHDNYP20DF',\n",
       " u'MPORTHEKKP12DC',\n",
       " u'MPORWBPM1P01DF',\n",
       " u'MPORWBPM1P02DC',\n",
       " u'MPORWHSM1P01DF',\n",
       " u'MPORWHYM1P01DF',\n",
       " u'MPORWHYM1P02DC',\n",
       " u'MPORWKR00P02DF',\n",
       " u'MPORWKR00P10DC',\n",
       " u'MPORWKRBPP02DF',\n",
       " u'MPORWKRBPP10DC',\n",
       " u'MPORWKRMXP10DC',\n",
       " u'MPORWKRMXP10DF',\n",
       " u'MPORWM1BPP02DC',\n",
       " u'MPORWM1HSP02DC',\n",
       " u'MPORWM1HSRETDC',\n",
       " u'MPORWM1HYP02DC',\n",
       " u'MPORWM1HYRETDC',\n",
       " u'MPORWM1PKP02DC',\n",
       " u'MPORWM1PKRETDC',\n",
       " u'MPORWM4BPRETDC',\n",
       " u'MPORWMHM1P01DF',\n",
       " u'MPORWMHM1P02DC',\n",
       " u'MPORWNDORP01DF',\n",
       " u'MPORWNDORP02DC',\n",
       " u'MPORWNDORP04DC',\n",
       " u'P2JWF0000K02DC',\n",
       " u'P2JWF0000K02DF',\n",
       " u'P2JWF0HSZK12DC',\n",
       " u'P3JW00000K02PF',\n",
       " u'P3JW0000ZK25DC',\n",
       " u'P3JW00BRUK02DF',\n",
       " u'P3JW07090K02DC',\n",
       " u'P3JW07090K02DF',\n",
       " u'P3JW08100K02DC',\n",
       " u'P3JW08100K02DF',\n",
       " u'P3JW0911ZK12DC',\n",
       " u'P3JWLTGIFK02DF',\n",
       " u'P3JWS0000K02DC',\n",
       " u'P3JWS0000K02DF',\n",
       " u'P3JWSFPDZK12DC',\n",
       " u'PDMT03446K02DC',\n",
       " u'PDMT04050K02DF',\n",
       " u'PDMTF0000K02DC',\n",
       " u'PDMTF0000K02DF',\n",
       " u'PDMTF000ZK25DC',\n",
       " u'PDMTFBRDZK12DC',\n",
       " u'PDMTFBRDZK12DF',\n",
       " u'PDMTFFPDZK12DC',\n",
       " u'PDMTFFPDZK12DF',\n",
       " u'PDMTMF000150DC',\n",
       " u'PDMTMF000150DF',\n",
       " u'PMJW02636K02DC',\n",
       " u'PMJWF0000K01DC',\n",
       " u'PMJWF0000K01DF',\n",
       " u'PMJWF0000K02DC',\n",
       " u'PMJWF0000K02DF',\n",
       " u'PMJWF000ZK25DC',\n",
       " u'PMJWF00FZK12DC',\n",
       " u'PMJWF00FZK12DF',\n",
       " u'PMJWMF000150DC',\n",
       " u'PMJWMF000150DF',\n",
       " u'WBL1BP000P10DC',\n",
       " u'WBL1BP000P10DF',\n",
       " u'WBL1SPG41P01DC',\n",
       " u'WBL1SPHFGP01DC',\n",
       " u'WBL1SPHFGP01DF',\n",
       " u'WBM1BP000P10DC',\n",
       " u'WBM1BP000P10DF',\n",
       " u'WBM1SP000P01DC',\n",
       " u'WBM1SP000P01DF',\n",
       " u'WBM1SP0JDP01DF',\n",
       " u'WBM2BP000P10DC',\n",
       " u'WBM2BP000P10DF',\n",
       " u'WBM2SP000P01DC',\n",
       " u'WBM2SP000P01DF',\n",
       " u'WBM2SPGCHP01DC',\n",
       " u'WBS2BP000P10DC',\n",
       " u'WBS2BP000P10DF',\n",
       " u'WNC03P000P03DC',\n",
       " u'WNC03P000P03DF',\n",
       " u'WNC03P0S2P03DC',\n",
       " u'WNC03P0S2P03DF'}"
      ]
     },
     "execution_count": 14,
     "metadata": {},
     "output_type": "execute_result"
    }
   ],
   "source": [
    "set(ff['Fresh SKU']).union(set(ff['Frozen SKU'])).union(set(y['item code'])).union(set(demand_fresh['item code'])).union(set(demand_frozen['item code']))"
   ]
  },
  {
   "cell_type": "code",
   "execution_count": 50,
   "metadata": {
    "collapsed": false
   },
   "outputs": [
    {
     "data": {
      "text/plain": [
       "51"
      ]
     },
     "execution_count": 50,
     "metadata": {},
     "output_type": "execute_result"
    }
   ],
   "source": [
    "len(ff['Fresh SKU'])"
   ]
  },
  {
   "cell_type": "code",
   "execution_count": 30,
   "metadata": {
    "collapsed": false,
    "scrolled": true
   },
   "outputs": [
    {
     "data": {
      "text/plain": [
       "220"
      ]
     },
     "execution_count": 30,
     "metadata": {},
     "output_type": "execute_result"
    }
   ],
   "source": [
    "len(set(y['item code']))"
   ]
  },
  {
   "cell_type": "code",
   "execution_count": 33,
   "metadata": {
    "collapsed": false
   },
   "outputs": [
    {
     "data": {
      "text/plain": [
       "96"
      ]
     },
     "execution_count": 33,
     "metadata": {},
     "output_type": "execute_result"
    }
   ],
   "source": [
    "len(set(demand_fresh['item code']))"
   ]
  },
  {
   "cell_type": "code",
   "execution_count": 11,
   "metadata": {
    "collapsed": false
   },
   "outputs": [],
   "source": [
    "products = list(set(demand_fresh['item code']).intersection(set(y['item code'])).union(set(demand_frozen['item code']).intersection(set(y['item code']))))"
   ]
  },
  {
   "cell_type": "code",
   "execution_count": 10,
   "metadata": {
    "collapsed": false
   },
   "outputs": [
    {
     "data": {
      "text/plain": [
       "60"
      ]
     },
     "execution_count": 10,
     "metadata": {},
     "output_type": "execute_result"
    }
   ],
   "source": [
    "set(demand_frozen['item code']).intersection(set(y['item code'])))"
   ]
  },
  {
   "cell_type": "code",
   "execution_count": 1,
   "metadata": {
    "collapsed": false
   },
   "outputs": [
    {
     "ename": "ModuleNotFoundError",
     "evalue": "No module named 'pandas'",
     "output_type": "error",
     "traceback": [
      "\u001b[0;31m---------------------------------------------------------------------------\u001b[0m",
      "\u001b[0;31mModuleNotFoundError\u001b[0m                       Traceback (most recent call last)",
      "\u001b[0;32m<ipython-input-1-af55e7023913>\u001b[0m in \u001b[0;36m<module>\u001b[0;34m()\u001b[0m\n\u001b[0;32m----> 1\u001b[0;31m \u001b[0;32mimport\u001b[0m \u001b[0mpandas\u001b[0m \u001b[0;32mas\u001b[0m \u001b[0mpd\u001b[0m\u001b[0;34m\u001b[0m\u001b[0m\n\u001b[0m",
      "\u001b[0;31mModuleNotFoundError\u001b[0m: No module named 'pandas'"
     ]
    }
   ],
   "source": [
    "import pandas as pd"
   ]
  }
 ],
 "metadata": {
  "kernelspec": {
   "display_name": "Python 3",
   "language": "python",
   "name": "python3"
  },
  "language_info": {
   "codemirror_mode": {
    "name": "ipython",
    "version": 3
   },
   "file_extension": ".py",
   "mimetype": "text/x-python",
   "name": "python",
   "nbconvert_exporter": "python",
   "pygments_lexer": "ipython3",
   "version": "3.6.3"
  }
 },
 "nbformat": 4,
 "nbformat_minor": 2
}
